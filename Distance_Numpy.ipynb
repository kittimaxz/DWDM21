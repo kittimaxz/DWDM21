{
  "nbformat": 4,
  "nbformat_minor": 0,
  "metadata": {
    "colab": {
      "name": "Distance Numpy.ipynb",
      "provenance": [],
      "authorship_tag": "ABX9TyMddwzoJ5qVcdSzCyN38dZD",
      "include_colab_link": true
    },
    "kernelspec": {
      "name": "python3",
      "display_name": "Python 3"
    },
    "language_info": {
      "name": "python"
    }
  },
  "cells": [
    {
      "cell_type": "markdown",
      "metadata": {
        "id": "view-in-github",
        "colab_type": "text"
      },
      "source": [
        "<a href=\"https://colab.research.google.com/github/kittimaxz/DWDM21/blob/main/Distance_Numpy.ipynb\" target=\"_parent\"><img src=\"https://colab.research.google.com/assets/colab-badge.svg\" alt=\"Open In Colab\"/></a>"
      ]
    },
    {
      "cell_type": "code",
      "metadata": {
        "id": "oRdW9sgZc2g6"
      },
      "source": [
        "import numpy as np #packege สำหรับทำงานกับข้อมูลที่เป็นตัวเลข (ที่อยู่ในรูปแบบ Matrix)"
      ],
      "execution_count": 1,
      "outputs": []
    },
    {
      "cell_type": "markdown",
      "metadata": {
        "id": "w0yiUUOqdbJd"
      },
      "source": [
        "# Numpy Array"
      ]
    },
    {
      "cell_type": "markdown",
      "metadata": {
        "id": "yRYlFFISdkWG"
      },
      "source": [
        "## สร้าง numpy array (matrix)"
      ]
    },
    {
      "cell_type": "code",
      "metadata": {
        "id": "0NzTs3C1dEIG"
      },
      "source": [
        "np_a = np.array([[1,2,3],[4,5,6]]) # สร้าง numpy array ที่มี 2 แถว 3 หลัก"
      ],
      "execution_count": 2,
      "outputs": []
    },
    {
      "cell_type": "code",
      "metadata": {
        "colab": {
          "base_uri": "https://localhost:8080/"
        },
        "id": "ebm3yw4jd4Nh",
        "outputId": "37169dff-85ae-4382-e480-49df79778618"
      },
      "source": [
        "np_a"
      ],
      "execution_count": 3,
      "outputs": [
        {
          "output_type": "execute_result",
          "data": {
            "text/plain": [
              "array([[1, 2, 3],\n",
              "       [4, 5, 6]])"
            ]
          },
          "metadata": {},
          "execution_count": 3
        }
      ]
    },
    {
      "cell_type": "code",
      "metadata": {
        "colab": {
          "base_uri": "https://localhost:8080/"
        },
        "id": "T_HLH-Nqd5xu",
        "outputId": "1c3e16b2-2f3b-40fa-e795-08c93b7e7c75"
      },
      "source": [
        "np_a.shape # ใช้ดูขนาด"
      ],
      "execution_count": 4,
      "outputs": [
        {
          "output_type": "execute_result",
          "data": {
            "text/plain": [
              "(2, 3)"
            ]
          },
          "metadata": {},
          "execution_count": 4
        }
      ]
    },
    {
      "cell_type": "code",
      "metadata": {
        "id": "mZG65mlGeHRh"
      },
      "source": [
        "np_b = np.array([[1,4],[2,5],[3,6]])"
      ],
      "execution_count": 5,
      "outputs": []
    },
    {
      "cell_type": "code",
      "metadata": {
        "colab": {
          "base_uri": "https://localhost:8080/"
        },
        "id": "QT9n1xixea5-",
        "outputId": "be1923fd-254d-4da4-87b3-42c91250aa3e"
      },
      "source": [
        "np_b"
      ],
      "execution_count": 6,
      "outputs": [
        {
          "output_type": "execute_result",
          "data": {
            "text/plain": [
              "array([[1, 4],\n",
              "       [2, 5],\n",
              "       [3, 6]])"
            ]
          },
          "metadata": {},
          "execution_count": 6
        }
      ]
    },
    {
      "cell_type": "markdown",
      "metadata": {
        "id": "IiorDyp1e765"
      },
      "source": [
        "## สร้าง matrix เริ่มต้น (zeros,ones)"
      ]
    },
    {
      "cell_type": "code",
      "metadata": {
        "colab": {
          "base_uri": "https://localhost:8080/"
        },
        "id": "gbEiEs4ce0OQ",
        "outputId": "54336d5e-4d37-4b85-cbe9-b33a553ccc0e"
      },
      "source": [
        "np_z = np.zeros((4,5))\n",
        "np_z"
      ],
      "execution_count": 8,
      "outputs": [
        {
          "output_type": "execute_result",
          "data": {
            "text/plain": [
              "array([[0., 0., 0., 0., 0.],\n",
              "       [0., 0., 0., 0., 0.],\n",
              "       [0., 0., 0., 0., 0.],\n",
              "       [0., 0., 0., 0., 0.]])"
            ]
          },
          "metadata": {},
          "execution_count": 8
        }
      ]
    },
    {
      "cell_type": "code",
      "metadata": {
        "colab": {
          "base_uri": "https://localhost:8080/"
        },
        "id": "Vzq2SO60gMhI",
        "outputId": "4dddf7f6-7c53-4064-fd3a-c643ec4961db"
      },
      "source": [
        "np_o = np.ones((5,6))\n",
        "np_o"
      ],
      "execution_count": 9,
      "outputs": [
        {
          "output_type": "execute_result",
          "data": {
            "text/plain": [
              "array([[1., 1., 1., 1., 1., 1.],\n",
              "       [1., 1., 1., 1., 1., 1.],\n",
              "       [1., 1., 1., 1., 1., 1.],\n",
              "       [1., 1., 1., 1., 1., 1.],\n",
              "       [1., 1., 1., 1., 1., 1.]])"
            ]
          },
          "metadata": {},
          "execution_count": 9
        }
      ]
    },
    {
      "cell_type": "code",
      "metadata": {
        "colab": {
          "base_uri": "https://localhost:8080/"
        },
        "id": "ioIHbO3KgRMa",
        "outputId": "9f3484f6-9312-4ed2-8132-95f8220a9174"
      },
      "source": [
        "np_200 = 200* np.ones((4,7))\n",
        "np_200"
      ],
      "execution_count": 10,
      "outputs": [
        {
          "output_type": "execute_result",
          "data": {
            "text/plain": [
              "array([[200., 200., 200., 200., 200., 200., 200.],\n",
              "       [200., 200., 200., 200., 200., 200., 200.],\n",
              "       [200., 200., 200., 200., 200., 200., 200.],\n",
              "       [200., 200., 200., 200., 200., 200., 200.]])"
            ]
          },
          "metadata": {},
          "execution_count": 10
        }
      ]
    },
    {
      "cell_type": "markdown",
      "metadata": {
        "id": "iLiWUDPxgeT_"
      },
      "source": [
        "## สร้าง matrix random"
      ]
    },
    {
      "cell_type": "code",
      "metadata": {
        "colab": {
          "base_uri": "https://localhost:8080/"
        },
        "id": "ZWSY12N8gdbI",
        "outputId": "79856cd4-3635-41be-9f4f-18574613846a"
      },
      "source": [
        "np.random.randn(5,5) # random เลขมาจาก normal disttribution  ที่มี mu = 0,std = 1"
      ],
      "execution_count": 11,
      "outputs": [
        {
          "output_type": "execute_result",
          "data": {
            "text/plain": [
              "array([[-0.12691235,  0.28046655, -0.33411468,  0.92251366, -2.8515614 ],\n",
              "       [ 0.84598566, -0.73417262,  0.64073175, -0.60107718,  0.90415028],\n",
              "       [ 0.44083398, -0.15322572,  1.07237859, -0.07477539,  0.52080768],\n",
              "       [ 1.34414783,  1.05417143, -0.25885294,  0.49629338, -0.61515398],\n",
              "       [ 0.33422278, -1.84449424, -0.31094116,  1.59967002,  0.4750751 ]])"
            ]
          },
          "metadata": {},
          "execution_count": 11
        }
      ]
    },
    {
      "cell_type": "code",
      "metadata": {
        "colab": {
          "base_uri": "https://localhost:8080/"
        },
        "id": "zjCEyMd0gqCU",
        "outputId": "4493f025-621d-48bc-9404-6a58a283dfa8"
      },
      "source": [
        "2+(5*np.random.randn(3,3)) # random เลขมาจาก normal disttribution  ที่มี mu = 2,std = 5"
      ],
      "execution_count": 12,
      "outputs": [
        {
          "output_type": "execute_result",
          "data": {
            "text/plain": [
              "array([[ 0.39912827,  7.75486572,  4.40232863],\n",
              "       [ 3.78460021,  3.23421928,  7.28941936],\n",
              "       [ 3.43469311, -0.32964689, -2.80948692]])"
            ]
          },
          "metadata": {},
          "execution_count": 12
        }
      ]
    },
    {
      "cell_type": "code",
      "metadata": {
        "colab": {
          "base_uri": "https://localhost:8080/"
        },
        "id": "1tQEYq15g2-Q",
        "outputId": "0472c525-19bb-4b7b-b043-2498b1313c39"
      },
      "source": [
        "np.random.randint(5,11,(4,5)) # random เลขจำนวนเต็มม ระหว่าง [5,11) ขนาด (4x5)"
      ],
      "execution_count": 13,
      "outputs": [
        {
          "output_type": "execute_result",
          "data": {
            "text/plain": [
              "array([[ 5,  6, 10,  7,  6],\n",
              "       [ 8, 10,  7,  6, 10],\n",
              "       [ 5,  8,  6,  9,  5],\n",
              "       [ 5,  5,  9,  5,  5]])"
            ]
          },
          "metadata": {},
          "execution_count": 13
        }
      ]
    },
    {
      "cell_type": "markdown",
      "metadata": {
        "id": "AhKS5cDVem6U"
      },
      "source": [
        "## Matrix transpose"
      ]
    },
    {
      "cell_type": "code",
      "metadata": {
        "id": "v-l_lz_ZOtOy",
        "outputId": "51235398-dea4-4b33-fc80-cd20537c961e",
        "colab": {
          "base_uri": "https://localhost:8080/"
        }
      },
      "source": [
        "np_a"
      ],
      "execution_count": 14,
      "outputs": [
        {
          "output_type": "execute_result",
          "data": {
            "text/plain": [
              "array([[1, 2, 3],\n",
              "       [4, 5, 6]])"
            ]
          },
          "metadata": {},
          "execution_count": 14
        }
      ]
    },
    {
      "cell_type": "code",
      "metadata": {
        "colab": {
          "base_uri": "https://localhost:8080/"
        },
        "id": "-Q9XMCeAefUc",
        "outputId": "75122653-692f-4a75-9e1d-022e66a82026"
      },
      "source": [
        "np_a.T # Transpose"
      ],
      "execution_count": 7,
      "outputs": [
        {
          "output_type": "execute_result",
          "data": {
            "text/plain": [
              "array([[1, 4],\n",
              "       [2, 5],\n",
              "       [3, 6]])"
            ]
          },
          "metadata": {},
          "execution_count": 7
        }
      ]
    },
    {
      "cell_type": "code",
      "metadata": {
        "id": "97-YSC8jhjbI",
        "outputId": "b36cd93f-bab4-47c8-825f-f245614393d8",
        "colab": {
          "base_uri": "https://localhost:8080/"
        }
      },
      "source": [
        "1 + np_a # adding scalar to matrix #บวก 1 เข้าทุกตัวของเมทริกซ์"
      ],
      "execution_count": 15,
      "outputs": [
        {
          "output_type": "execute_result",
          "data": {
            "text/plain": [
              "array([[2, 3, 4],\n",
              "       [5, 6, 7]])"
            ]
          },
          "metadata": {},
          "execution_count": 15
        }
      ]
    },
    {
      "cell_type": "code",
      "metadata": {
        "id": "QflcfHsGO1L9",
        "outputId": "32a9dfe6-381d-406e-cf43-2676ecb46845",
        "colab": {
          "base_uri": "https://localhost:8080/"
        }
      },
      "source": [
        "2 * np_a # multipling scalar to matrix #คูณ 2 เข้าทุกตัวของเมทริกซ์"
      ],
      "execution_count": 16,
      "outputs": [
        {
          "output_type": "execute_result",
          "data": {
            "text/plain": [
              "array([[ 2,  4,  6],\n",
              "       [ 8, 10, 12]])"
            ]
          },
          "metadata": {},
          "execution_count": 16
        }
      ]
    },
    {
      "cell_type": "code",
      "metadata": {
        "id": "1x1taf2OPBHx"
      },
      "source": [
        "np_c = np.array([[6,5,4],[3,2,1]])"
      ],
      "execution_count": 17,
      "outputs": []
    },
    {
      "cell_type": "code",
      "metadata": {
        "id": "7DWlWzJVPaVl",
        "outputId": "0c2336ac-a355-429a-ca14-1751b8ded945",
        "colab": {
          "base_uri": "https://localhost:8080/"
        }
      },
      "source": [
        "np_a + np_c # adding matrix to matrix  # เมทริกจะบวกกันโดยใช้เลขที่ตรงกัน"
      ],
      "execution_count": 18,
      "outputs": [
        {
          "output_type": "execute_result",
          "data": {
            "text/plain": [
              "array([[7, 7, 7],\n",
              "       [7, 7, 7]])"
            ]
          },
          "metadata": {},
          "execution_count": 18
        }
      ]
    },
    {
      "cell_type": "code",
      "metadata": {
        "id": "1SCKUyXpPdJM",
        "outputId": "0e2d1812-8b0f-4c24-80aa-ed3ce6f38df3",
        "colab": {
          "base_uri": "https://localhost:8080/"
        }
      },
      "source": [
        "np_a.shape #ดูขนาด"
      ],
      "execution_count": 19,
      "outputs": [
        {
          "output_type": "execute_result",
          "data": {
            "text/plain": [
              "(2, 3)"
            ]
          },
          "metadata": {},
          "execution_count": 19
        }
      ]
    },
    {
      "cell_type": "code",
      "metadata": {
        "id": "oax8EPDYQFVe",
        "outputId": "9759be55-7234-494b-ef3b-bfeb002e4c40",
        "colab": {
          "base_uri": "https://localhost:8080/"
        }
      },
      "source": [
        "np_c.shape"
      ],
      "execution_count": 20,
      "outputs": [
        {
          "output_type": "execute_result",
          "data": {
            "text/plain": [
              "(2, 3)"
            ]
          },
          "metadata": {},
          "execution_count": 20
        }
      ]
    },
    {
      "cell_type": "code",
      "metadata": {
        "id": "h4e8QLP8QIPa",
        "outputId": "cbcdd73b-4a53-498d-938f-3d31262e9397",
        "colab": {
          "base_uri": "https://localhost:8080/",
          "height": 197
        }
      },
      "source": [
        "np.dot(np_a,np_c) # multipling matrix to matrix (a,b) x (b,c) # คูณกันไม่ได้เพราะมีขนาดที่ไม่เท่ากัน"
      ],
      "execution_count": 21,
      "outputs": [
        {
          "output_type": "error",
          "ename": "ValueError",
          "evalue": "ignored",
          "traceback": [
            "\u001b[0;31m---------------------------------------------------------------------------\u001b[0m",
            "\u001b[0;31mValueError\u001b[0m                                Traceback (most recent call last)",
            "\u001b[0;32m<ipython-input-21-1c0b7b1774b9>\u001b[0m in \u001b[0;36m<module>\u001b[0;34m()\u001b[0m\n\u001b[0;32m----> 1\u001b[0;31m \u001b[0mnp\u001b[0m\u001b[0;34m.\u001b[0m\u001b[0mdot\u001b[0m\u001b[0;34m(\u001b[0m\u001b[0mnp_a\u001b[0m\u001b[0;34m,\u001b[0m\u001b[0mnp_c\u001b[0m\u001b[0;34m)\u001b[0m\u001b[0;34m\u001b[0m\u001b[0;34m\u001b[0m\u001b[0m\n\u001b[0m",
            "\u001b[0;32m<__array_function__ internals>\u001b[0m in \u001b[0;36mdot\u001b[0;34m(*args, **kwargs)\u001b[0m\n",
            "\u001b[0;31mValueError\u001b[0m: shapes (2,3) and (2,3) not aligned: 3 (dim 1) != 2 (dim 0)"
          ]
        }
      ]
    },
    {
      "cell_type": "code",
      "metadata": {
        "id": "3IgU_UXWQQV4",
        "outputId": "7301100e-62c6-4715-aea4-873f7f49a3a3",
        "colab": {
          "base_uri": "https://localhost:8080/"
        }
      },
      "source": [
        "np_c.T"
      ],
      "execution_count": 22,
      "outputs": [
        {
          "output_type": "execute_result",
          "data": {
            "text/plain": [
              "array([[6, 3],\n",
              "       [5, 2],\n",
              "       [4, 1]])"
            ]
          },
          "metadata": {},
          "execution_count": 22
        }
      ]
    },
    {
      "cell_type": "code",
      "metadata": {
        "id": "dk6dxrEEQrpE",
        "outputId": "1c7eb4b6-484d-4968-a5d5-a5d4f4650713",
        "colab": {
          "base_uri": "https://localhost:8080/"
        }
      },
      "source": [
        "np.dot(np_a,np_c.T)"
      ],
      "execution_count": 23,
      "outputs": [
        {
          "output_type": "execute_result",
          "data": {
            "text/plain": [
              "array([[28, 10],\n",
              "       [73, 28]])"
            ]
          },
          "metadata": {},
          "execution_count": 23
        }
      ]
    },
    {
      "cell_type": "markdown",
      "metadata": {
        "id": "V9rlqflNRRlG"
      },
      "source": [
        "# Indexing & Slicing"
      ]
    },
    {
      "cell_type": "code",
      "metadata": {
        "id": "Ac2VEQfEQwtU",
        "outputId": "24f79887-95e3-4ce9-b514-efc8c837bd6e",
        "colab": {
          "base_uri": "https://localhost:8080/"
        }
      },
      "source": [
        "np_a"
      ],
      "execution_count": 24,
      "outputs": [
        {
          "output_type": "execute_result",
          "data": {
            "text/plain": [
              "array([[1, 2, 3],\n",
              "       [4, 5, 6]])"
            ]
          },
          "metadata": {},
          "execution_count": 24
        }
      ]
    },
    {
      "cell_type": "code",
      "metadata": {
        "id": "b3fersAiRgMJ",
        "outputId": "3151e518-84a8-46ef-f0db-94f2654aa15f",
        "colab": {
          "base_uri": "https://localhost:8080/"
        }
      },
      "source": [
        "np_a[1,1]"
      ],
      "execution_count": 25,
      "outputs": [
        {
          "output_type": "execute_result",
          "data": {
            "text/plain": [
              "5"
            ]
          },
          "metadata": {},
          "execution_count": 25
        }
      ]
    },
    {
      "cell_type": "code",
      "metadata": {
        "id": "BmEmPhOiR_0F",
        "outputId": "8fdcad8c-679f-4cd1-84a5-1087c2a5c104",
        "colab": {
          "base_uri": "https://localhost:8080/"
        }
      },
      "source": [
        "np_a[:2,:2]"
      ],
      "execution_count": 26,
      "outputs": [
        {
          "output_type": "execute_result",
          "data": {
            "text/plain": [
              "array([[1, 2],\n",
              "       [4, 5]])"
            ]
          },
          "metadata": {},
          "execution_count": 26
        }
      ]
    },
    {
      "cell_type": "code",
      "metadata": {
        "id": "gGu_7lRhSUHi",
        "outputId": "05040300-3471-40b9-9650-c9a88dd5d239",
        "colab": {
          "base_uri": "https://localhost:8080/"
        }
      },
      "source": [
        "np_a[0,:]"
      ],
      "execution_count": 27,
      "outputs": [
        {
          "output_type": "execute_result",
          "data": {
            "text/plain": [
              "array([1, 2, 3])"
            ]
          },
          "metadata": {},
          "execution_count": 27
        }
      ]
    },
    {
      "cell_type": "markdown",
      "metadata": {
        "id": "Z_rZaVE3Sq2v"
      },
      "source": [
        "# Useful functions"
      ]
    },
    {
      "cell_type": "code",
      "metadata": {
        "id": "D-cUt4PhS7Hb",
        "outputId": "3c30ca80-2b90-44c6-d218-bcc8213b6d14",
        "colab": {
          "base_uri": "https://localhost:8080/"
        }
      },
      "source": [
        "np_a"
      ],
      "execution_count": 29,
      "outputs": [
        {
          "output_type": "execute_result",
          "data": {
            "text/plain": [
              "array([[1, 2, 3],\n",
              "       [4, 5, 6]])"
            ]
          },
          "metadata": {},
          "execution_count": 29
        }
      ]
    },
    {
      "cell_type": "code",
      "metadata": {
        "id": "FaFc2HXKSY9s",
        "outputId": "042e4ba9-1d17-4589-ef24-29098b6caa18",
        "colab": {
          "base_uri": "https://localhost:8080/"
        }
      },
      "source": [
        "np.sum(np_a) # การรวมทุกเลข"
      ],
      "execution_count": 28,
      "outputs": [
        {
          "output_type": "execute_result",
          "data": {
            "text/plain": [
              "21"
            ]
          },
          "metadata": {},
          "execution_count": 28
        }
      ]
    },
    {
      "cell_type": "code",
      "metadata": {
        "id": "yzfF6ShxSz2w",
        "outputId": "cc99d240-4910-4365-e07d-f502e7d0d449",
        "colab": {
          "base_uri": "https://localhost:8080/"
        }
      },
      "source": [
        "np.sum(np_a,axis=0) # axis 0 ก็คือรวมเลขในแต่ละแถว # เป็นการเอาค่าในแนวแกนนอนมารวมกัน"
      ],
      "execution_count": 30,
      "outputs": [
        {
          "output_type": "execute_result",
          "data": {
            "text/plain": [
              "array([5, 7, 9])"
            ]
          },
          "metadata": {},
          "execution_count": 30
        }
      ]
    },
    {
      "cell_type": "code",
      "metadata": {
        "id": "0Y6H1YHKTG-t",
        "outputId": "03ad8c55-21c0-4638-84d3-1d0e5a9c937b",
        "colab": {
          "base_uri": "https://localhost:8080/"
        }
      },
      "source": [
        "np.sum(np_a,axis=1) # axis 1 ก็คือรวมเลขในแต่ละหลัก # เป็นการเอาค่าในแนวแกนตั้งมารวมกัน"
      ],
      "execution_count": 31,
      "outputs": [
        {
          "output_type": "execute_result",
          "data": {
            "text/plain": [
              "array([ 6, 15])"
            ]
          },
          "metadata": {},
          "execution_count": 31
        }
      ]
    },
    {
      "cell_type": "code",
      "metadata": {
        "id": "zNXeBzjoTVTX",
        "outputId": "f7075252-9908-491b-d42a-d1f7c8c69cc3",
        "colab": {
          "base_uri": "https://localhost:8080/"
        }
      },
      "source": [
        "np.mean(np_a)"
      ],
      "execution_count": 32,
      "outputs": [
        {
          "output_type": "execute_result",
          "data": {
            "text/plain": [
              "3.5"
            ]
          },
          "metadata": {},
          "execution_count": 32
        }
      ]
    },
    {
      "cell_type": "code",
      "metadata": {
        "id": "iPtCoTqITdpx",
        "outputId": "39279647-ebe1-446a-f093-013188c0c55c",
        "colab": {
          "base_uri": "https://localhost:8080/"
        }
      },
      "source": [
        "np.mean(np_a,axis=0) # หาค่า mean ของ column"
      ],
      "execution_count": 34,
      "outputs": [
        {
          "output_type": "execute_result",
          "data": {
            "text/plain": [
              "array([2.5, 3.5, 4.5])"
            ]
          },
          "metadata": {},
          "execution_count": 34
        }
      ]
    },
    {
      "cell_type": "markdown",
      "metadata": {
        "id": "Fm-G9rtZUxQK"
      },
      "source": [
        "## วนลูปเอง"
      ]
    },
    {
      "cell_type": "markdown",
      "metadata": {
        "id": "nhLGMXELVBv4"
      },
      "source": [
        "### Summation"
      ]
    },
    {
      "cell_type": "markdown",
      "metadata": {
        "id": "Z0Pkf7ZpWtlI"
      },
      "source": [
        "\n",
        "\n",
        "```\n",
        "np.sum(np_a)\n",
        "```\n",
        "\n"
      ]
    },
    {
      "cell_type": "code",
      "metadata": {
        "id": "x_ZEr-e8UGYM",
        "outputId": "b77a0521-c20c-454c-a12e-c3b7841999e5",
        "colab": {
          "base_uri": "https://localhost:8080/"
        }
      },
      "source": [
        "sum_all = 0\n",
        "\n",
        "for row in range(np_a.shape[0]) : \n",
        "    for col in range(np_a.shape[1]) :\n",
        "        sum_all = sum_all + np_a[row,col]\n",
        "        print(f'we are at row = {row}, col = {col}, np_a[{row},{col}] = {np_a[row,col]}, sum_all = {sum_all}')\n",
        "print(sum_all)"
      ],
      "execution_count": 37,
      "outputs": [
        {
          "output_type": "stream",
          "text": [
            "we are at row = 0, col = 0, np_a[0,0] = 1, sum_all = 1\n",
            "we are at row = 0, col = 1, np_a[0,1] = 2, sum_all = 3\n",
            "we are at row = 0, col = 2, np_a[0,2] = 3, sum_all = 6\n",
            "we are at row = 1, col = 0, np_a[1,0] = 4, sum_all = 10\n",
            "we are at row = 1, col = 1, np_a[1,1] = 5, sum_all = 15\n",
            "we are at row = 1, col = 2, np_a[1,2] = 6, sum_all = 21\n",
            "21\n"
          ],
          "name": "stdout"
        }
      ]
    },
    {
      "cell_type": "markdown",
      "metadata": {
        "id": "4l9KKwLuW6GR"
      },
      "source": [
        "\n",
        "\n",
        "```\n",
        "np.sum(axis=0)\n",
        "```\n",
        "\n"
      ]
    },
    {
      "cell_type": "code",
      "metadata": {
        "id": "Dy1shgcJWJrx",
        "outputId": "fb148f71-6f2b-4585-c047-262c8be07a7f",
        "colab": {
          "base_uri": "https://localhost:8080/"
        }
      },
      "source": [
        "sum_all = np.zeros(np_a.shape[1])\n",
        "\n",
        "for row in range(np_a.shape[0]) : \n",
        "    for col in range(np_a.shape[1]) :\n",
        "        sum_all[col] = sum_all[col] + np_a[row,col]\n",
        "print(sum_all)"
      ],
      "execution_count": 38,
      "outputs": [
        {
          "output_type": "stream",
          "text": [
            "[5. 7. 9.]\n"
          ],
          "name": "stdout"
        }
      ]
    },
    {
      "cell_type": "markdown",
      "metadata": {
        "id": "WgeYtXXuYjRY"
      },
      "source": [
        "# Quiz กลุ่ม\n",
        "\n",
        "วนลูปหาค่า\n",
        "\n",
        "* np.sum(np_a,axis=1)\n",
        "* np.mean(np_a)\n",
        "* np.mean(np_a,axis=0)\n",
        "* np.mean(np_a,axis=1)"
      ]
    },
    {
      "cell_type": "code",
      "metadata": {
        "id": "Xc6llyE6XqTU",
        "outputId": "53c35dd5-3a0a-421b-90ec-daf677d24d5d",
        "colab": {
          "base_uri": "https://localhost:8080/"
        }
      },
      "source": [
        "sum_all = np.zeros(np_a.shape[0])\n",
        "\n",
        "for row in range(np_a.shape[0]) : \n",
        "    for col in range(np_a.shape[1]) :\n",
        "        sum_all[row] = sum_all[row] + np_a[row,col]\n",
        "print(sum_all)"
      ],
      "execution_count": 39,
      "outputs": [
        {
          "output_type": "stream",
          "text": [
            "[ 6. 15.]\n"
          ],
          "name": "stdout"
        }
      ]
    },
    {
      "cell_type": "code",
      "metadata": {
        "id": "HsIM5xrSYdcP"
      },
      "source": [
        ""
      ],
      "execution_count": null,
      "outputs": []
    }
  ]
}