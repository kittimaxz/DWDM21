{
  "nbformat": 4,
  "nbformat_minor": 0,
  "metadata": {
    "colab": {
      "name": "Data101(Chapter2).ipynb",
      "provenance": [],
      "authorship_tag": "ABX9TyMg42JrW9gZcjJaP2dW2ffA",
      "include_colab_link": true
    },
    "kernelspec": {
      "name": "python3",
      "display_name": "Python 3"
    },
    "language_info": {
      "name": "python"
    }
  },
  "cells": [
    {
      "cell_type": "markdown",
      "metadata": {
        "id": "view-in-github",
        "colab_type": "text"
      },
      "source": [
        "<a href=\"https://colab.research.google.com/github/kittimaxz/DWDM21/blob/main/Data101(Chapter2).ipynb\" target=\"_parent\"><img src=\"https://colab.research.google.com/assets/colab-badge.svg\" alt=\"Open In Colab\"/></a>"
      ]
    },
    {
      "cell_type": "markdown",
      "metadata": {
        "id": "o32H4vGsz6yM"
      },
      "source": [
        "ข้อความที่อยู่ใน package จะเป็นภาษา Markdown"
      ]
    },
    {
      "cell_type": "markdown",
      "metadata": {
        "id": "fXFOyQRjtqJt"
      },
      "source": [
        "ข้อดีหนึ่งของ Python คือมี package สำหรับทำงานต่างๆ มากมาย \n",
        "\n",
        "ซึ่ง pandas เป็น package สำหรับการทำงานกับข้อมูลที่อยู่ในตาราง \n",
        "\n",
        "โดย pandas จะเรียกตารางนั้นว่า dataframe"
      ]
    },
    {
      "cell_type": "code",
      "metadata": {
        "id": "WUnCCzegr9gy"
      },
      "source": [
        "import pandas  # เป็นวิธีเรียกใช้ package คือ import ตามด้วยชื่อ package โดย pandas เกี่ยวกับการเรียกใช้ข้อมูล"
      ],
      "execution_count": 1,
      "outputs": []
    },
    {
      "cell_type": "code",
      "metadata": {
        "id": "l7VX1a68tEnK"
      },
      "source": [
        "import pandas as pd # เหมือนกับข้างบนแต่ว่า ตั้งชื่อให้ package ที่โหลดมาใหม่ว่า pd เพื่อการเรียกใช้ที่สั้นลง"
      ],
      "execution_count": 2,
      "outputs": []
    },
    {
      "cell_type": "markdown",
      "metadata": {
        "id": "w0tUa4Z3uuxp"
      },
      "source": [
        "ไลฟ์ .csv (CSV = comma separated values) เป็นไฟล์หลักที่เราจะได้ใช้กันในวิชานี้\n",
        "\n",
        ".csv เป็นไฟล์ที่จัดเก็บข้อมูลได้อ่านง่าย ทั้งคนและคอมพิวเตอร์\n"
      ]
    },
    {
      "cell_type": "code",
      "metadata": {
        "id": "8ABu4fAZvUFC"
      },
      "source": [
        "data_df = pd.read_csv('data.csv')"
      ],
      "execution_count": 4,
      "outputs": []
    },
    {
      "cell_type": "code",
      "metadata": {
        "id": "gnoyKq3wxOPj",
        "colab": {
          "base_uri": "https://localhost:8080/",
          "height": 142
        },
        "outputId": "90a05eb4-ea4f-4523-d604-3889493246db"
      },
      "source": [
        "data_df"
      ],
      "execution_count": 5,
      "outputs": [
        {
          "output_type": "execute_result",
          "data": {
            "text/html": [
              "<div>\n",
              "<style scoped>\n",
              "    .dataframe tbody tr th:only-of-type {\n",
              "        vertical-align: middle;\n",
              "    }\n",
              "\n",
              "    .dataframe tbody tr th {\n",
              "        vertical-align: top;\n",
              "    }\n",
              "\n",
              "    .dataframe thead th {\n",
              "        text-align: right;\n",
              "    }\n",
              "</style>\n",
              "<table border=\"1\" class=\"dataframe\">\n",
              "  <thead>\n",
              "    <tr style=\"text-align: right;\">\n",
              "      <th></th>\n",
              "      <th>name</th>\n",
              "      <th>age</th>\n",
              "      <th>city</th>\n",
              "    </tr>\n",
              "  </thead>\n",
              "  <tbody>\n",
              "    <tr>\n",
              "      <th>0</th>\n",
              "      <td>Tom</td>\n",
              "      <td>27</td>\n",
              "      <td>Khon Kaen</td>\n",
              "    </tr>\n",
              "    <tr>\n",
              "      <th>1</th>\n",
              "      <td>Pual</td>\n",
              "      <td>15</td>\n",
              "      <td>Bankok</td>\n",
              "    </tr>\n",
              "    <tr>\n",
              "      <th>2</th>\n",
              "      <td>Sarah</td>\n",
              "      <td>49</td>\n",
              "      <td>London</td>\n",
              "    </tr>\n",
              "  </tbody>\n",
              "</table>\n",
              "</div>"
            ],
            "text/plain": [
              "    name  age       city\n",
              "0    Tom   27  Khon Kaen\n",
              "1   Pual   15     Bankok\n",
              "2  Sarah   49     London"
            ]
          },
          "metadata": {
            "tags": []
          },
          "execution_count": 5
        }
      ]
    },
    {
      "cell_type": "code",
      "metadata": {
        "id": "5w3fHVhoxUAS",
        "colab": {
          "base_uri": "https://localhost:8080/",
          "height": 142
        },
        "outputId": "d3ad866e-f5c6-4c6c-f56f-317745a9917b"
      },
      "source": [
        "data_df2 = pandas.read_csv('data.csv')\n",
        "data_df2"
      ],
      "execution_count": 6,
      "outputs": [
        {
          "output_type": "execute_result",
          "data": {
            "text/html": [
              "<div>\n",
              "<style scoped>\n",
              "    .dataframe tbody tr th:only-of-type {\n",
              "        vertical-align: middle;\n",
              "    }\n",
              "\n",
              "    .dataframe tbody tr th {\n",
              "        vertical-align: top;\n",
              "    }\n",
              "\n",
              "    .dataframe thead th {\n",
              "        text-align: right;\n",
              "    }\n",
              "</style>\n",
              "<table border=\"1\" class=\"dataframe\">\n",
              "  <thead>\n",
              "    <tr style=\"text-align: right;\">\n",
              "      <th></th>\n",
              "      <th>name</th>\n",
              "      <th>age</th>\n",
              "      <th>city</th>\n",
              "    </tr>\n",
              "  </thead>\n",
              "  <tbody>\n",
              "    <tr>\n",
              "      <th>0</th>\n",
              "      <td>Tom</td>\n",
              "      <td>27</td>\n",
              "      <td>Khon Kaen</td>\n",
              "    </tr>\n",
              "    <tr>\n",
              "      <th>1</th>\n",
              "      <td>Pual</td>\n",
              "      <td>15</td>\n",
              "      <td>Bankok</td>\n",
              "    </tr>\n",
              "    <tr>\n",
              "      <th>2</th>\n",
              "      <td>Sarah</td>\n",
              "      <td>49</td>\n",
              "      <td>London</td>\n",
              "    </tr>\n",
              "  </tbody>\n",
              "</table>\n",
              "</div>"
            ],
            "text/plain": [
              "    name  age       city\n",
              "0    Tom   27  Khon Kaen\n",
              "1   Pual   15     Bankok\n",
              "2  Sarah   49     London"
            ]
          },
          "metadata": {
            "tags": []
          },
          "execution_count": 6
        }
      ]
    },
    {
      "cell_type": "markdown",
      "metadata": {
        "id": "UdJ0BQsTzoaT"
      },
      "source": [
        "# Basic Python\n",
        "## Variables"
      ]
    },
    {
      "cell_type": "markdown",
      "metadata": {
        "id": "by5aUOeD2quf"
      },
      "source": [
        "ข้อกำหนดในการกำหนดตัวแปร\n",
        "\n",
        "  1. ชื่อห้ามมีเว้นวรรค\n",
        "  2. (พยายาม)ใช้ภาษาอังกฤษ\n",
        "  3. ตัวเล็กตัวใหญ่ต่างกัน (case sensitive)\n",
        "  4. ห้ามใช้ตัวเลขเป็นตัวหน้า"
      ]
    },
    {
      "cell_type": "code",
      "metadata": {
        "id": "FH70twgZySfe"
      },
      "source": [
        "variable_a = 12\n",
        "variable_b = 'abcde' # ' เรียกว่า quote แสดงเป็นข้อมูลตัวอักษร หรือ string\n",
        "variable_c = variable_a"
      ],
      "execution_count": 7,
      "outputs": []
    },
    {
      "cell_type": "code",
      "metadata": {
        "id": "i53y1gur1K7y",
        "colab": {
          "base_uri": "https://localhost:8080/"
        },
        "outputId": "a9dfed78-bfeb-4e90-9054-2acc91100200"
      },
      "source": [
        "variable_a"
      ],
      "execution_count": 8,
      "outputs": [
        {
          "output_type": "execute_result",
          "data": {
            "text/plain": [
              "12"
            ]
          },
          "metadata": {
            "tags": []
          },
          "execution_count": 8
        }
      ]
    },
    {
      "cell_type": "code",
      "metadata": {
        "id": "RrHI7N8I1OH9",
        "colab": {
          "base_uri": "https://localhost:8080/",
          "height": 35
        },
        "outputId": "fc44921b-95e9-49b5-8254-9f53942a5ead"
      },
      "source": [
        "variable_b"
      ],
      "execution_count": 9,
      "outputs": [
        {
          "output_type": "execute_result",
          "data": {
            "application/vnd.google.colaboratory.intrinsic+json": {
              "type": "string"
            },
            "text/plain": [
              "'abcde'"
            ]
          },
          "metadata": {
            "tags": []
          },
          "execution_count": 9
        }
      ]
    },
    {
      "cell_type": "code",
      "metadata": {
        "id": "2Y-o7_Do1QJb",
        "colab": {
          "base_uri": "https://localhost:8080/"
        },
        "outputId": "d90e3711-4681-47a4-a030-3fc43a51209c"
      },
      "source": [
        "variable_c"
      ],
      "execution_count": 10,
      "outputs": [
        {
          "output_type": "execute_result",
          "data": {
            "text/plain": [
              "12"
            ]
          },
          "metadata": {
            "tags": []
          },
          "execution_count": 10
        }
      ]
    },
    {
      "cell_type": "code",
      "metadata": {
        "id": "WmTiX1rv1Sb6",
        "colab": {
          "base_uri": "https://localhost:8080/",
          "height": 130
        },
        "outputId": "9259e9d3-a721-46f3-d12c-82924441dd88"
      },
      "source": [
        "#ชื่อห้ามมีเว้นวรรค\n",
        "variable a = 6"
      ],
      "execution_count": 11,
      "outputs": [
        {
          "output_type": "error",
          "ename": "SyntaxError",
          "evalue": "ignored",
          "traceback": [
            "\u001b[0;36m  File \u001b[0;32m\"<ipython-input-11-67da5c6c279d>\"\u001b[0;36m, line \u001b[0;32m2\u001b[0m\n\u001b[0;31m    variable a = 6\u001b[0m\n\u001b[0m             ^\u001b[0m\n\u001b[0;31mSyntaxError\u001b[0m\u001b[0;31m:\u001b[0m invalid syntax\n"
          ]
        }
      ]
    },
    {
      "cell_type": "code",
      "metadata": {
        "id": "2p-ECWG43Ofa",
        "colab": {
          "base_uri": "https://localhost:8080/"
        },
        "outputId": "486d8368-ae15-46fb-f70f-17802147faa2"
      },
      "source": [
        "#(พยายาม)ใช้ภาษาอังกฤษ\n",
        "# colab ใช้ภาษาไทย เป็นชื่อตัวแปรได้ แต่ไม่ควรทำ\n",
        "ตัวแปร = 3 \n",
        "ตัวแปร"
      ],
      "execution_count": 12,
      "outputs": [
        {
          "output_type": "execute_result",
          "data": {
            "text/plain": [
              "3"
            ]
          },
          "metadata": {
            "tags": []
          },
          "execution_count": 12
        }
      ]
    },
    {
      "cell_type": "code",
      "metadata": {
        "id": "MBoqU2pD3f-6",
        "colab": {
          "base_uri": "https://localhost:8080/"
        },
        "outputId": "50f54ba8-3d8c-41aa-e2e3-1727c5aec0a7"
      },
      "source": [
        "#ตัวเล็กตัวใหญ่ต่างกัน (case sensitive)\n",
        "v_a = 1\n",
        "V_a = 2\n",
        "print(v_a)\n",
        "print(V_a)"
      ],
      "execution_count": 13,
      "outputs": [
        {
          "output_type": "stream",
          "text": [
            "1\n",
            "2\n"
          ],
          "name": "stdout"
        }
      ]
    },
    {
      "cell_type": "code",
      "metadata": {
        "id": "GEz3XcTpkPrr",
        "colab": {
          "base_uri": "https://localhost:8080/"
        },
        "outputId": "592895a0-413b-4b08-c891-1ac5776caa38"
      },
      "source": [
        "# ตัวเล็กกับตัวใหญ่ แตกต่างกัน (case sensitive)\n",
        "v_a = 1\n",
        "v_a = 2\n",
        "print(v_a)\n",
        "print(v_a)"
      ],
      "execution_count": 14,
      "outputs": [
        {
          "output_type": "stream",
          "text": [
            "2\n",
            "2\n"
          ],
          "name": "stdout"
        }
      ]
    },
    {
      "cell_type": "code",
      "metadata": {
        "id": "Q1tbv7mPkgzD",
        "colab": {
          "base_uri": "https://localhost:8080/",
          "height": 130
        },
        "outputId": "d207decc-6b75-406f-b671-e950cb161986"
      },
      "source": [
        "# ห้ามใช้ตัวเลขเป็นตัวหน้า\n",
        "2 = 1"
      ],
      "execution_count": 15,
      "outputs": [
        {
          "output_type": "error",
          "ename": "SyntaxError",
          "evalue": "ignored",
          "traceback": [
            "\u001b[0;36m  File \u001b[0;32m\"<ipython-input-15-24eb8a2ec18c>\"\u001b[0;36m, line \u001b[0;32m2\u001b[0m\n\u001b[0;31m    2 = 1\u001b[0m\n\u001b[0m         ^\u001b[0m\n\u001b[0;31mSyntaxError\u001b[0m\u001b[0;31m:\u001b[0m can't assign to literal\n"
          ]
        }
      ]
    },
    {
      "cell_type": "code",
      "metadata": {
        "colab": {
          "base_uri": "https://localhost:8080/",
          "height": 130
        },
        "id": "SQuh00dK4GXd",
        "outputId": "a758d77e-fdc2-4fa5-e476-79168239900e"
      },
      "source": [
        "#ห้ามใช้ตัวเลขเป็นตัวหน้า\n",
        "2ab = 1"
      ],
      "execution_count": 16,
      "outputs": [
        {
          "output_type": "error",
          "ename": "SyntaxError",
          "evalue": "ignored",
          "traceback": [
            "\u001b[0;36m  File \u001b[0;32m\"<ipython-input-16-b408d3f2d8a4>\"\u001b[0;36m, line \u001b[0;32m2\u001b[0m\n\u001b[0;31m    2ab = 1\u001b[0m\n\u001b[0m      ^\u001b[0m\n\u001b[0;31mSyntaxError\u001b[0m\u001b[0;31m:\u001b[0m invalid syntax\n"
          ]
        }
      ]
    },
    {
      "cell_type": "code",
      "metadata": {
        "id": "ppmgpyTykong"
      },
      "source": [
        "# ห้ามใช้ตัวเลขเป็นตัวหน้า\n",
        "variable1 = 1"
      ],
      "execution_count": 17,
      "outputs": []
    },
    {
      "cell_type": "code",
      "metadata": {
        "id": "2A7I5Xr2kxSb",
        "colab": {
          "base_uri": "https://localhost:8080/"
        },
        "outputId": "91ca9e08-9831-4f97-f4e2-59d6499cafe2"
      },
      "source": [
        "print(variable1)"
      ],
      "execution_count": 18,
      "outputs": [
        {
          "output_type": "stream",
          "text": [
            "1\n"
          ],
          "name": "stdout"
        }
      ]
    },
    {
      "cell_type": "code",
      "metadata": {
        "id": "wkc5Mqoq4McO"
      },
      "source": [
        "variable_a = 12\n",
        "variable_b = 'abcde' # ' เรียกว่า quote แสดงข้อมูลที่เป็นตัวอักษร หรือ string\n",
        "variable_c = variable_a\n",
        "variable_d = -41.2\n",
        "variable_4 = \"KKU\" # \" เรียกว่า double quote ใช้แสดงข้อมูลเหมือนกับ ' เลือกใช้แทนกันได้"
      ],
      "execution_count": 19,
      "outputs": []
    },
    {
      "cell_type": "code",
      "metadata": {
        "id": "fcO9mSwS4nZy",
        "colab": {
          "base_uri": "https://localhost:8080/"
        },
        "outputId": "717e0784-439b-421a-d292-98817d8a7783"
      },
      "source": [
        "variable_x = variable_c + variable_d\n",
        "print(variable_x)"
      ],
      "execution_count": 20,
      "outputs": [
        {
          "output_type": "stream",
          "text": [
            "-29.200000000000003\n"
          ],
          "name": "stdout"
        }
      ]
    },
    {
      "cell_type": "code",
      "metadata": {
        "id": "mPgoHYRa44C9",
        "colab": {
          "base_uri": "https://localhost:8080/",
          "height": 163
        },
        "outputId": "8db60703-430a-40b0-8a5b-7cfeb618a81a"
      },
      "source": [
        "variable_a + variable_b # ตัวเลขกับตัวอักษรไม่สามารถนำมาบวกกันได้"
      ],
      "execution_count": 21,
      "outputs": [
        {
          "output_type": "error",
          "ename": "TypeError",
          "evalue": "ignored",
          "traceback": [
            "\u001b[0;31m---------------------------------------------------------------------------\u001b[0m",
            "\u001b[0;31mTypeError\u001b[0m                                 Traceback (most recent call last)",
            "\u001b[0;32m<ipython-input-21-2cf49085095c>\u001b[0m in \u001b[0;36m<module>\u001b[0;34m()\u001b[0m\n\u001b[0;32m----> 1\u001b[0;31m \u001b[0mvariable_a\u001b[0m \u001b[0;34m+\u001b[0m \u001b[0mvariable_b\u001b[0m \u001b[0;31m# ตัวเลขกับตัวอักษรไม่สามารถนำมาบวกกันได้\u001b[0m\u001b[0;34m\u001b[0m\u001b[0;34m\u001b[0m\u001b[0m\n\u001b[0m",
            "\u001b[0;31mTypeError\u001b[0m: unsupported operand type(s) for +: 'int' and 'str'"
          ]
        }
      ]
    },
    {
      "cell_type": "code",
      "metadata": {
        "id": "MjyyQ7Ry6gL3",
        "colab": {
          "base_uri": "https://localhost:8080/"
        },
        "outputId": "e4a06289-5d58-4fb8-b1b1-2b22cb94dc7c"
      },
      "source": [
        "print(variable_b + variable_4) # ตัวอักษรกับตัวอักษรสามารถนำมาบวกกันได้"
      ],
      "execution_count": 22,
      "outputs": [
        {
          "output_type": "stream",
          "text": [
            "abcdeKKU\n"
          ],
          "name": "stdout"
        }
      ]
    },
    {
      "cell_type": "markdown",
      "metadata": {
        "id": "y_kIiLZr7MTz"
      },
      "source": [
        "**Casting int() float() str()**"
      ]
    },
    {
      "cell_type": "code",
      "metadata": {
        "colab": {
          "base_uri": "https://localhost:8080/"
        },
        "id": "z8eUaKVw6mp3",
        "outputId": "2f6c3b6b-53fb-437f-efa4-53da7f7bed01"
      },
      "source": [
        "print(variable_x)\n",
        "print(int(variable_x)) # เป็นการเปลี่ยนจาก float เป็น int"
      ],
      "execution_count": 23,
      "outputs": [
        {
          "output_type": "stream",
          "text": [
            "-29.200000000000003\n",
            "-29\n"
          ],
          "name": "stdout"
        }
      ]
    },
    {
      "cell_type": "code",
      "metadata": {
        "colab": {
          "base_uri": "https://localhost:8080/",
          "height": 130
        },
        "id": "PUieAD7U7d42",
        "outputId": "20bf660b-7e4a-47ba-a702-a1db64e67afc"
      },
      "source": [
        "V_X = str(variable_x) เป็นการเปลี่ยนจากตัวเลขเป็นทศนิยม\n",
        "print(V_X)"
      ],
      "execution_count": 24,
      "outputs": [
        {
          "output_type": "error",
          "ename": "SyntaxError",
          "evalue": "ignored",
          "traceback": [
            "\u001b[0;36m  File \u001b[0;32m\"<ipython-input-24-6c404e40030f>\"\u001b[0;36m, line \u001b[0;32m1\u001b[0m\n\u001b[0;31m    V_X = str(variable_x) เป็นการเปลี่ยนจากตัวเลขเป็นทศนิยม\u001b[0m\n\u001b[0m                                                          ^\u001b[0m\n\u001b[0;31mSyntaxError\u001b[0m\u001b[0;31m:\u001b[0m invalid syntax\n"
          ]
        }
      ]
    },
    {
      "cell_type": "code",
      "metadata": {
        "id": "QNf7K4m2735G",
        "colab": {
          "base_uri": "https://localhost:8080/",
          "height": 163
        },
        "outputId": "e2b7b87f-318f-4100-abfd-287eaf0359ff"
      },
      "source": [
        "V_X + variable_a"
      ],
      "execution_count": 25,
      "outputs": [
        {
          "output_type": "error",
          "ename": "NameError",
          "evalue": "ignored",
          "traceback": [
            "\u001b[0;31m---------------------------------------------------------------------------\u001b[0m",
            "\u001b[0;31mNameError\u001b[0m                                 Traceback (most recent call last)",
            "\u001b[0;32m<ipython-input-25-d83c0918f5c6>\u001b[0m in \u001b[0;36m<module>\u001b[0;34m()\u001b[0m\n\u001b[0;32m----> 1\u001b[0;31m \u001b[0mV_X\u001b[0m \u001b[0;34m+\u001b[0m \u001b[0mvariable_a\u001b[0m\u001b[0;34m\u001b[0m\u001b[0;34m\u001b[0m\u001b[0m\n\u001b[0m",
            "\u001b[0;31mNameError\u001b[0m: name 'V_X' is not defined"
          ]
        }
      ]
    },
    {
      "cell_type": "code",
      "metadata": {
        "id": "HtHW3kGP77tf",
        "colab": {
          "base_uri": "https://localhost:8080/",
          "height": 163
        },
        "outputId": "960cc5f7-2bb4-41a4-b23d-a6c6c4700740"
      },
      "source": [
        "variable_a + V_X "
      ],
      "execution_count": 26,
      "outputs": [
        {
          "output_type": "error",
          "ename": "NameError",
          "evalue": "ignored",
          "traceback": [
            "\u001b[0;31m---------------------------------------------------------------------------\u001b[0m",
            "\u001b[0;31mNameError\u001b[0m                                 Traceback (most recent call last)",
            "\u001b[0;32m<ipython-input-26-0a1cd1ca5ad3>\u001b[0m in \u001b[0;36m<module>\u001b[0;34m()\u001b[0m\n\u001b[0;32m----> 1\u001b[0;31m \u001b[0mvariable_a\u001b[0m \u001b[0;34m+\u001b[0m \u001b[0mV_X\u001b[0m\u001b[0;34m\u001b[0m\u001b[0;34m\u001b[0m\u001b[0m\n\u001b[0m",
            "\u001b[0;31mNameError\u001b[0m: name 'V_X' is not defined"
          ]
        }
      ]
    },
    {
      "cell_type": "code",
      "metadata": {
        "id": "F4sW7lKk8BRz",
        "colab": {
          "base_uri": "https://localhost:8080/",
          "height": 163
        },
        "outputId": "378e3901-1feb-4ff8-be00-a80b1c208c32"
      },
      "source": [
        "V_X # จากผลลัพธ์มี qoute อยู่แสดงว่าเป็น str"
      ],
      "execution_count": 27,
      "outputs": [
        {
          "output_type": "error",
          "ename": "NameError",
          "evalue": "ignored",
          "traceback": [
            "\u001b[0;31m---------------------------------------------------------------------------\u001b[0m",
            "\u001b[0;31mNameError\u001b[0m                                 Traceback (most recent call last)",
            "\u001b[0;32m<ipython-input-27-5ca8e0fa936e>\u001b[0m in \u001b[0;36m<module>\u001b[0;34m()\u001b[0m\n\u001b[0;32m----> 1\u001b[0;31m \u001b[0mV_X\u001b[0m \u001b[0;31m# จากผลลัพธ์มี qoute อยู่แสดงว่าเป็น str\u001b[0m\u001b[0;34m\u001b[0m\u001b[0;34m\u001b[0m\u001b[0m\n\u001b[0m",
            "\u001b[0;31mNameError\u001b[0m: name 'V_X' is not defined"
          ]
        }
      ]
    },
    {
      "cell_type": "code",
      "metadata": {
        "id": "HpHz1MIE8fHT",
        "colab": {
          "base_uri": "https://localhost:8080/",
          "height": 163
        },
        "outputId": "52e77c2f-56a9-42f7-872a-b665db2941fc"
      },
      "source": [
        "float(V_X) # เปลี่ยน str เป็น float"
      ],
      "execution_count": 73,
      "outputs": [
        {
          "output_type": "error",
          "ename": "NameError",
          "evalue": "ignored",
          "traceback": [
            "\u001b[0;31m---------------------------------------------------------------------------\u001b[0m",
            "\u001b[0;31mNameError\u001b[0m                                 Traceback (most recent call last)",
            "\u001b[0;32m<ipython-input-73-832ead51124e>\u001b[0m in \u001b[0;36m<module>\u001b[0;34m()\u001b[0m\n\u001b[0;32m----> 1\u001b[0;31m \u001b[0mfloat\u001b[0m\u001b[0;34m(\u001b[0m\u001b[0mV_X\u001b[0m\u001b[0;34m)\u001b[0m \u001b[0;31m# เปลี่ยน str เป็น float\u001b[0m\u001b[0;34m\u001b[0m\u001b[0;34m\u001b[0m\u001b[0m\n\u001b[0m",
            "\u001b[0;31mNameError\u001b[0m: name 'V_X' is not defined"
          ]
        }
      ]
    },
    {
      "cell_type": "markdown",
      "metadata": {
        "id": "gwJ_mA-J82mC"
      },
      "source": [
        " **Data Srtucture**\n",
        "\n",
        " **list()** "
      ]
    },
    {
      "cell_type": "code",
      "metadata": {
        "id": "5eYglKq18p7N"
      },
      "source": [
        "list_a = [1,2,0.2,'abs'] # [] square brackets ใช้เก็บข้อมูล เก็บได้ทั้ง int,str,float,list ด้วยกันเอง\n",
        "list_b= [2,'xyz',list_a,[1,2,0.0]]"
      ],
      "execution_count": 29,
      "outputs": []
    },
    {
      "cell_type": "code",
      "metadata": {
        "id": "xDR57Y9F9h0u",
        "colab": {
          "base_uri": "https://localhost:8080/"
        },
        "outputId": "dfec1b07-eda9-4d62-df42-67a492f9d9ba"
      },
      "source": [
        "list_a"
      ],
      "execution_count": 30,
      "outputs": [
        {
          "output_type": "execute_result",
          "data": {
            "text/plain": [
              "[1, 2, 0.2, 'abs']"
            ]
          },
          "metadata": {
            "tags": []
          },
          "execution_count": 30
        }
      ]
    },
    {
      "cell_type": "code",
      "metadata": {
        "id": "NJsSqdwm976Z",
        "colab": {
          "base_uri": "https://localhost:8080/"
        },
        "outputId": "9b17726d-3d01-4312-b506-1f7859e90133"
      },
      "source": [
        "list_b"
      ],
      "execution_count": 31,
      "outputs": [
        {
          "output_type": "execute_result",
          "data": {
            "text/plain": [
              "[2, 'xyz', [1, 2, 0.2, 'abs'], [1, 2, 0.0]]"
            ]
          },
          "metadata": {
            "tags": []
          },
          "execution_count": 31
        }
      ]
    },
    {
      "cell_type": "code",
      "metadata": {
        "id": "1sZLgfrz-MUo",
        "colab": {
          "base_uri": "https://localhost:8080/"
        },
        "outputId": "4b9844be-bfbd-4214-fd7e-b45bd7968a64"
      },
      "source": [
        "len(list_b) # len ย่อมาจาก leng ใช้ดูความยาว ซึ่งสามารถบอกได้ว่ามีความยาวเท่าไร"
      ],
      "execution_count": 32,
      "outputs": [
        {
          "output_type": "execute_result",
          "data": {
            "text/plain": [
              "4"
            ]
          },
          "metadata": {
            "tags": []
          },
          "execution_count": 32
        }
      ]
    },
    {
      "cell_type": "code",
      "metadata": {
        "id": "fiRGVniy-PLG",
        "colab": {
          "base_uri": "https://localhost:8080/"
        },
        "outputId": "7e2c9417-5e0a-4050-f760-069ce3c61a0d"
      },
      "source": [
        "list_b[3] # เป็นการชี้ตำแหน่งของ list โดยเริ่มที่ตำแหน่งที่ 0 "
      ],
      "execution_count": 33,
      "outputs": [
        {
          "output_type": "execute_result",
          "data": {
            "text/plain": [
              "[1, 2, 0.0]"
            ]
          },
          "metadata": {
            "tags": []
          },
          "execution_count": 33
        }
      ]
    },
    {
      "cell_type": "code",
      "metadata": {
        "id": "KKKnRhOX-dha",
        "colab": {
          "base_uri": "https://localhost:8080/"
        },
        "outputId": "220b77b9-4a87-4470-e628-dfe5224c564b"
      },
      "source": [
        "list_b[3][1] # เป็นการชี้ที่ตำแหน่งที่ 3 ก่อน (ในวงเล็บใหญ่) แล้วจึงชี้ในตำแหน่งที่ 1 (ในวงเล็บเล็ก)"
      ],
      "execution_count": 34,
      "outputs": [
        {
          "output_type": "execute_result",
          "data": {
            "text/plain": [
              "2"
            ]
          },
          "metadata": {
            "tags": []
          },
          "execution_count": 34
        }
      ]
    },
    {
      "cell_type": "markdown",
      "metadata": {
        "id": "_IXslO-P-3td"
      },
      "source": [
        "string คือ list ของ ตัวหนังสือ"
      ]
    },
    {
      "cell_type": "code",
      "metadata": {
        "id": "GAd1r9Qr-rNl"
      },
      "source": [
        "a = 'Stat KKU'"
      ],
      "execution_count": 35,
      "outputs": []
    },
    {
      "cell_type": "code",
      "metadata": {
        "id": "y2G_kcvJ_EMr",
        "colab": {
          "base_uri": "https://localhost:8080/",
          "height": 35
        },
        "outputId": "f89ce2f6-ef15-4cf5-e5cb-43378f508df9"
      },
      "source": [
        "a[4]"
      ],
      "execution_count": 36,
      "outputs": [
        {
          "output_type": "execute_result",
          "data": {
            "application/vnd.google.colaboratory.intrinsic+json": {
              "type": "string"
            },
            "text/plain": [
              "' '"
            ]
          },
          "metadata": {
            "tags": []
          },
          "execution_count": 36
        }
      ]
    },
    {
      "cell_type": "markdown",
      "metadata": {
        "id": "aqyhkC1W_nls"
      },
      "source": [
        "วิธีสร้าง list ว่าง"
      ]
    },
    {
      "cell_type": "code",
      "metadata": {
        "id": "Lsmrd2XI_Jpr"
      },
      "source": [
        "list_c = list() # แบบที่ 1\n",
        "list_d = [] # แบบที่ 2"
      ],
      "execution_count": 37,
      "outputs": []
    },
    {
      "cell_type": "code",
      "metadata": {
        "id": "1k2qQmzm_3ln",
        "colab": {
          "base_uri": "https://localhost:8080/"
        },
        "outputId": "c6f5ffdd-2085-44fb-f7b7-5018eb0db88e"
      },
      "source": [
        "list_c"
      ],
      "execution_count": 38,
      "outputs": [
        {
          "output_type": "execute_result",
          "data": {
            "text/plain": [
              "[]"
            ]
          },
          "metadata": {
            "tags": []
          },
          "execution_count": 38
        }
      ]
    },
    {
      "cell_type": "code",
      "metadata": {
        "id": "L6JelCbWAEc9",
        "colab": {
          "base_uri": "https://localhost:8080/"
        },
        "outputId": "2057d74f-2fb4-4c76-85f2-ca602f29d817"
      },
      "source": [
        "list_d"
      ],
      "execution_count": 39,
      "outputs": [
        {
          "output_type": "execute_result",
          "data": {
            "text/plain": [
              "[]"
            ]
          },
          "metadata": {
            "tags": []
          },
          "execution_count": 39
        }
      ]
    },
    {
      "cell_type": "markdown",
      "metadata": {
        "id": "s9axtTtjAcA9"
      },
      "source": [
        "เติมค่าลงใน list ใช้คำสั่ง (.append())"
      ]
    },
    {
      "cell_type": "code",
      "metadata": {
        "id": "U9ml_p0CAGqz"
      },
      "source": [
        "list_d.append('a') "
      ],
      "execution_count": 40,
      "outputs": []
    },
    {
      "cell_type": "code",
      "metadata": {
        "id": "7-Wob5X-AvOX",
        "colab": {
          "base_uri": "https://localhost:8080/"
        },
        "outputId": "41869d06-efd2-4b19-b7c2-562d7b5030d4"
      },
      "source": [
        "list_d"
      ],
      "execution_count": 41,
      "outputs": [
        {
          "output_type": "execute_result",
          "data": {
            "text/plain": [
              "['a']"
            ]
          },
          "metadata": {
            "tags": []
          },
          "execution_count": 41
        }
      ]
    },
    {
      "cell_type": "code",
      "metadata": {
        "id": "76BOTQt0AymY"
      },
      "source": [
        "list_d.append('56')"
      ],
      "execution_count": 42,
      "outputs": []
    },
    {
      "cell_type": "code",
      "metadata": {
        "id": "YpjQ5HvEA5KA",
        "colab": {
          "base_uri": "https://localhost:8080/"
        },
        "outputId": "b944aaf9-b173-4aba-90f2-508e2c11aa9c"
      },
      "source": [
        "list_d"
      ],
      "execution_count": 43,
      "outputs": [
        {
          "output_type": "execute_result",
          "data": {
            "text/plain": [
              "['a', '56']"
            ]
          },
          "metadata": {
            "tags": []
          },
          "execution_count": 43
        }
      ]
    },
    {
      "cell_type": "markdown",
      "metadata": {
        "id": "UfB4dTN4BJU1"
      },
      "source": [
        "การชี้ค่าใน list (idexing)\n",
        "\n",
        "1. ใช้ลำดับในการชี้\n",
        "2. ลำดับเริ่มจาก 0\n",
        "3. สามารถชี้จากข้างหลังได้โดยใช้ negative index"
      ]
    },
    {
      "cell_type": "code",
      "metadata": {
        "id": "aZvsE07vBbmj",
        "colab": {
          "base_uri": "https://localhost:8080/"
        },
        "outputId": "cb3e28d3-67f0-4baa-ea00-5db46a91eb7f"
      },
      "source": [
        "list_b"
      ],
      "execution_count": 44,
      "outputs": [
        {
          "output_type": "execute_result",
          "data": {
            "text/plain": [
              "[2, 'xyz', [1, 2, 0.2, 'abs'], [1, 2, 0.0]]"
            ]
          },
          "metadata": {
            "tags": []
          },
          "execution_count": 44
        }
      ]
    },
    {
      "cell_type": "code",
      "metadata": {
        "id": "RaHH4QMaBdgh",
        "colab": {
          "base_uri": "https://localhost:8080/"
        },
        "outputId": "8723bd2d-a75c-4122-d424-7d2c3b30820c"
      },
      "source": [
        "list_b[-1] # เป็นการนับมาจากข้างหลัง"
      ],
      "execution_count": 45,
      "outputs": [
        {
          "output_type": "execute_result",
          "data": {
            "text/plain": [
              "[1, 2, 0.0]"
            ]
          },
          "metadata": {
            "tags": []
          },
          "execution_count": 45
        }
      ]
    },
    {
      "cell_type": "markdown",
      "metadata": {
        "id": "84uqvMifCIjz"
      },
      "source": [
        "**list slicing**"
      ]
    },
    {
      "cell_type": "code",
      "metadata": {
        "id": "9Nhvc1ozBjTt"
      },
      "source": [
        "list_ex = [1,2,3,5,6,8,-1,20,50,0]"
      ],
      "execution_count": 46,
      "outputs": []
    },
    {
      "cell_type": "markdown",
      "metadata": {
        "id": "F55VxvHYC5m3"
      },
      "source": [
        "เราจะตัด list โดยเอาตั้งแต่ [ตัวหน้า : ตัวก่อนตัวหลัง]\n",
        "\n",
        "ถ้าเป็นสัณลักษณ์คณิตศาสตร์ [ตัวหน้า : ตัวหลัง] -> [ตัวหน้า,ตัวหลัง)"
      ]
    },
    {
      "cell_type": "code",
      "metadata": {
        "id": "v1yMG7_zCe8n",
        "colab": {
          "base_uri": "https://localhost:8080/"
        },
        "outputId": "c78d76a6-595e-4322-c1bc-e3085ceef093"
      },
      "source": [
        "list_ex[1:6]"
      ],
      "execution_count": 47,
      "outputs": [
        {
          "output_type": "execute_result",
          "data": {
            "text/plain": [
              "[2, 3, 5, 6, 8]"
            ]
          },
          "metadata": {
            "tags": []
          },
          "execution_count": 47
        }
      ]
    },
    {
      "cell_type": "code",
      "metadata": {
        "id": "dMwhY4tvCkfc",
        "colab": {
          "base_uri": "https://localhost:8080/"
        },
        "outputId": "292a929e-2c31-4b8f-b2da-bf57fb1ff851"
      },
      "source": [
        "list_ex[4:] # ไม่ใส่ขอบเขตข้างหลัง"
      ],
      "execution_count": 48,
      "outputs": [
        {
          "output_type": "execute_result",
          "data": {
            "text/plain": [
              "[6, 8, -1, 20, 50, 0]"
            ]
          },
          "metadata": {
            "tags": []
          },
          "execution_count": 48
        }
      ]
    },
    {
      "cell_type": "code",
      "metadata": {
        "id": "7eE_iNP0DjQg",
        "colab": {
          "base_uri": "https://localhost:8080/"
        },
        "outputId": "93149a85-196b-48a0-810a-29b098b8207b"
      },
      "source": [
        "list_ex[:6] # ไม่ใส่ขอบเขตข้างหน้า"
      ],
      "execution_count": 49,
      "outputs": [
        {
          "output_type": "execute_result",
          "data": {
            "text/plain": [
              "[1, 2, 3, 5, 6, 8]"
            ]
          },
          "metadata": {
            "tags": []
          },
          "execution_count": 49
        }
      ]
    },
    {
      "cell_type": "markdown",
      "metadata": {
        "id": "g3XsN_3fEKjT"
      },
      "source": [
        "[จุดเริ่มต้น : จุดสุดท้าย : step]"
      ]
    },
    {
      "cell_type": "code",
      "metadata": {
        "id": "p2u212BREcvK",
        "colab": {
          "base_uri": "https://localhost:8080/"
        },
        "outputId": "90506e15-1a8b-4a47-a1de-24385d6749a8"
      },
      "source": [
        "list_ex "
      ],
      "execution_count": 50,
      "outputs": [
        {
          "output_type": "execute_result",
          "data": {
            "text/plain": [
              "[1, 2, 3, 5, 6, 8, -1, 20, 50, 0]"
            ]
          },
          "metadata": {
            "tags": []
          },
          "execution_count": 50
        }
      ]
    },
    {
      "cell_type": "code",
      "metadata": {
        "id": "Uvp94JT9DnUS",
        "colab": {
          "base_uri": "https://localhost:8080/"
        },
        "outputId": "55fe4fc3-e9b8-45ea-cfd8-5505436c9142"
      },
      "source": [
        "list_ex[::2] #เป็นบอกว่าเอาตั้งแต่ตัวแรกถึงตัวสุดท้าย โดยกำหนดให้กระโดดทีละ 2 "
      ],
      "execution_count": 51,
      "outputs": [
        {
          "output_type": "execute_result",
          "data": {
            "text/plain": [
              "[1, 3, 6, -1, 50]"
            ]
          },
          "metadata": {
            "tags": []
          },
          "execution_count": 51
        }
      ]
    },
    {
      "cell_type": "code",
      "metadata": {
        "id": "WnrFcgNjEBGL",
        "colab": {
          "base_uri": "https://localhost:8080/"
        },
        "outputId": "31f582ac-299b-496f-be2e-94b898ea6150"
      },
      "source": [
        "list_ex[::-1] #การกลับ list"
      ],
      "execution_count": 52,
      "outputs": [
        {
          "output_type": "execute_result",
          "data": {
            "text/plain": [
              "[0, 50, 20, -1, 8, 6, 5, 3, 2, 1]"
            ]
          },
          "metadata": {
            "tags": []
          },
          "execution_count": 52
        }
      ]
    },
    {
      "cell_type": "code",
      "metadata": {
        "id": "jR7EyNy1EySY",
        "colab": {
          "base_uri": "https://localhost:8080/",
          "height": 35
        },
        "outputId": "bbbef374-8471-444f-98be-f6719df2b31e"
      },
      "source": [
        "a"
      ],
      "execution_count": 53,
      "outputs": [
        {
          "output_type": "execute_result",
          "data": {
            "application/vnd.google.colaboratory.intrinsic+json": {
              "type": "string"
            },
            "text/plain": [
              "'Stat KKU'"
            ]
          },
          "metadata": {
            "tags": []
          },
          "execution_count": 53
        }
      ]
    },
    {
      "cell_type": "code",
      "metadata": {
        "id": "yZz9xNlNE73g",
        "colab": {
          "base_uri": "https://localhost:8080/",
          "height": 35
        },
        "outputId": "c55c95f4-e8c1-47b5-b8c1-deb0eaedcfb9"
      },
      "source": [
        "a[5:]"
      ],
      "execution_count": 54,
      "outputs": [
        {
          "output_type": "execute_result",
          "data": {
            "application/vnd.google.colaboratory.intrinsic+json": {
              "type": "string"
            },
            "text/plain": [
              "'KKU'"
            ]
          },
          "metadata": {
            "tags": []
          },
          "execution_count": 54
        }
      ]
    },
    {
      "cell_type": "code",
      "metadata": {
        "id": "--64aJP8lf6P",
        "colab": {
          "base_uri": "https://localhost:8080/",
          "height": 35
        },
        "outputId": "f963f0e1-6c3c-43ee-8610-e94773b200a5"
      },
      "source": [
        "a[-3:]"
      ],
      "execution_count": 55,
      "outputs": [
        {
          "output_type": "execute_result",
          "data": {
            "application/vnd.google.colaboratory.intrinsic+json": {
              "type": "string"
            },
            "text/plain": [
              "'KKU'"
            ]
          },
          "metadata": {
            "tags": []
          },
          "execution_count": 55
        }
      ]
    },
    {
      "cell_type": "code",
      "metadata": {
        "id": "9ap9Favblj9_",
        "colab": {
          "base_uri": "https://localhost:8080/",
          "height": 35
        },
        "outputId": "f813bc3a-5b7b-45b8-f784-8ad0c764cc42"
      },
      "source": [
        "a[5:8]"
      ],
      "execution_count": 56,
      "outputs": [
        {
          "output_type": "execute_result",
          "data": {
            "application/vnd.google.colaboratory.intrinsic+json": {
              "type": "string"
            },
            "text/plain": [
              "'KKU'"
            ]
          },
          "metadata": {
            "tags": []
          },
          "execution_count": 56
        }
      ]
    },
    {
      "cell_type": "code",
      "metadata": {
        "id": "zu6m11x9lmG9",
        "colab": {
          "base_uri": "https://localhost:8080/",
          "height": 35
        },
        "outputId": "05fc8321-476a-4b0d-8ab1-4feaae269ae7"
      },
      "source": [
        "a[5::]"
      ],
      "execution_count": 57,
      "outputs": [
        {
          "output_type": "execute_result",
          "data": {
            "application/vnd.google.colaboratory.intrinsic+json": {
              "type": "string"
            },
            "text/plain": [
              "'KKU'"
            ]
          },
          "metadata": {
            "tags": []
          },
          "execution_count": 57
        }
      ]
    },
    {
      "cell_type": "code",
      "metadata": {
        "id": "DvgPjviwlnl8",
        "colab": {
          "base_uri": "https://localhost:8080/",
          "height": 35
        },
        "outputId": "803587ea-22f7-4d91-a999-c4cfd9e465ac"
      },
      "source": [
        "a[-3::]"
      ],
      "execution_count": 58,
      "outputs": [
        {
          "output_type": "execute_result",
          "data": {
            "application/vnd.google.colaboratory.intrinsic+json": {
              "type": "string"
            },
            "text/plain": [
              "'KKU'"
            ]
          },
          "metadata": {
            "tags": []
          },
          "execution_count": 58
        }
      ]
    },
    {
      "cell_type": "code",
      "metadata": {
        "id": "Dsb2-kNplpMO",
        "colab": {
          "base_uri": "https://localhost:8080/",
          "height": 35
        },
        "outputId": "ad7a2fa0-1aed-46d4-80d4-4384463d3fff"
      },
      "source": [
        "a[-3::1]"
      ],
      "execution_count": 59,
      "outputs": [
        {
          "output_type": "execute_result",
          "data": {
            "application/vnd.google.colaboratory.intrinsic+json": {
              "type": "string"
            },
            "text/plain": [
              "'KKU'"
            ]
          },
          "metadata": {
            "tags": []
          },
          "execution_count": 59
        }
      ]
    },
    {
      "cell_type": "markdown",
      "metadata": {
        "id": "ASU9Mr4tGv_5"
      },
      "source": [
        "**list + list**"
      ]
    },
    {
      "cell_type": "code",
      "metadata": {
        "id": "jdOYRJOVFYJy",
        "colab": {
          "base_uri": "https://localhost:8080/"
        },
        "outputId": "3e0c4499-d69a-401a-c882-5599940cc84d"
      },
      "source": [
        "print(list_a)\n",
        "print(list_b)"
      ],
      "execution_count": 60,
      "outputs": [
        {
          "output_type": "stream",
          "text": [
            "[1, 2, 0.2, 'abs']\n",
            "[2, 'xyz', [1, 2, 0.2, 'abs'], [1, 2, 0.0]]\n"
          ],
          "name": "stdout"
        }
      ]
    },
    {
      "cell_type": "code",
      "metadata": {
        "id": "C7-ND0RkHAwe",
        "colab": {
          "base_uri": "https://localhost:8080/"
        },
        "outputId": "d76d715f-f99b-4224-9fbc-e83b8991d96f"
      },
      "source": [
        "list_a + list_b"
      ],
      "execution_count": 61,
      "outputs": [
        {
          "output_type": "execute_result",
          "data": {
            "text/plain": [
              "[1, 2, 0.2, 'abs', 2, 'xyz', [1, 2, 0.2, 'abs'], [1, 2, 0.0]]"
            ]
          },
          "metadata": {
            "tags": []
          },
          "execution_count": 61
        }
      ]
    },
    {
      "cell_type": "markdown",
      "metadata": {
        "id": "8qEdifg2LdCK"
      },
      "source": [
        "format string"
      ]
    },
    {
      "cell_type": "markdown",
      "metadata": {
        "id": "Q9eBrCi6LxBZ"
      },
      "source": [
        "\n",
        "```python\n",
        "f'string{ตัวแปร}'\n",
        "\n",
        "{} เรียกว่า curly brackets\n",
        "```\n",
        "\n"
      ]
    },
    {
      "cell_type": "code",
      "metadata": {
        "id": "T7ZtGq0DLgMK",
        "colab": {
          "base_uri": "https://localhost:8080/",
          "height": 35
        },
        "outputId": "ca7f3e49-5590-4d62-877a-7002deeeedca"
      },
      "source": [
        "f'ตัวแปร list_a มีค่าคือ {list_a}'"
      ],
      "execution_count": 62,
      "outputs": [
        {
          "output_type": "execute_result",
          "data": {
            "application/vnd.google.colaboratory.intrinsic+json": {
              "type": "string"
            },
            "text/plain": [
              "\"ตัวแปร list_a มีค่าคือ [1, 2, 0.2, 'abs']\""
            ]
          },
          "metadata": {
            "tags": []
          },
          "execution_count": 62
        }
      ]
    },
    {
      "cell_type": "markdown",
      "metadata": {
        "id": "4mlJigWlHhjP"
      },
      "source": [
        "**Loop**"
      ]
    },
    {
      "cell_type": "markdown",
      "metadata": {
        "id": "HVKmoT3sBqhw"
      },
      "source": [
        "ทำงานซ้ำๆ หรือ ทำงานคล้ายๆ กัน"
      ]
    },
    {
      "cell_type": "markdown",
      "metadata": {
        "id": "nI-rRJyqKeCq"
      },
      "source": [
        "``` python\n",
        "for ตัวแปรที่จะรับค่าจากลิสต์ in ลิสต์ที่จะนำมาวนลูป :\n",
        "  do something # in loop\n",
        "  do another thing # in loop\n",
        "\n",
        "do other thing # out side loop\n",
        "```\n",
        "\n"
      ]
    },
    {
      "cell_type": "code",
      "metadata": {
        "id": "ZOFWX5R1Jp4f",
        "colab": {
          "base_uri": "https://localhost:8080/"
        },
        "outputId": "8feb5ef5-c35f-47bb-a555-433524acb91f"
      },
      "source": [
        "for i in [1,2,3,4,5]:\n",
        "  print(i+1)\n"
      ],
      "execution_count": 63,
      "outputs": [
        {
          "output_type": "stream",
          "text": [
            "2\n",
            "3\n",
            "4\n",
            "5\n",
            "6\n"
          ],
          "name": "stdout"
        }
      ]
    },
    {
      "cell_type": "code",
      "metadata": {
        "id": "ivLZUNslJpxn",
        "colab": {
          "base_uri": "https://localhost:8080/"
        },
        "outputId": "6ab17924-5339-43b4-92ed-59d6e22bdfdf"
      },
      "source": [
        "for x in [1,2,3,4,5]:\n",
        "  print(f'ค่าตัวแปร x คือ {x} และ x+2 = {x+2}')"
      ],
      "execution_count": 64,
      "outputs": [
        {
          "output_type": "stream",
          "text": [
            "ค่าตัวแปร x คือ 1 และ x+2 = 3\n",
            "ค่าตัวแปร x คือ 2 และ x+2 = 4\n",
            "ค่าตัวแปร x คือ 3 และ x+2 = 5\n",
            "ค่าตัวแปร x คือ 4 และ x+2 = 6\n",
            "ค่าตัวแปร x คือ 5 และ x+2 = 7\n"
          ],
          "name": "stdout"
        }
      ]
    },
    {
      "cell_type": "code",
      "metadata": {
        "id": "rDo80maqNEP2",
        "colab": {
          "base_uri": "https://localhost:8080/"
        },
        "outputId": "20bd7455-b994-446d-eab0-0b45629f2a11"
      },
      "source": [
        "list5 = [1,2,3,4,5]\n",
        "for x in list5:\n",
        "  print(f'ค่าตัวแปร x คือ {x} และ x+2 = {x+2}')"
      ],
      "execution_count": 65,
      "outputs": [
        {
          "output_type": "stream",
          "text": [
            "ค่าตัวแปร x คือ 1 และ x+2 = 3\n",
            "ค่าตัวแปร x คือ 2 และ x+2 = 4\n",
            "ค่าตัวแปร x คือ 3 และ x+2 = 5\n",
            "ค่าตัวแปร x คือ 4 และ x+2 = 6\n",
            "ค่าตัวแปร x คือ 5 และ x+2 = 7\n"
          ],
          "name": "stdout"
        }
      ]
    },
    {
      "cell_type": "code",
      "metadata": {
        "id": "wVrjEKi6NPQK",
        "colab": {
          "base_uri": "https://localhost:8080/"
        },
        "outputId": "deb29dab-83ad-4be0-dc92-4e3def50c0dc"
      },
      "source": [
        "list(range(10)) # rang คือ list ที่ยังไม่ได้ถูกเก็บไว้"
      ],
      "execution_count": 66,
      "outputs": [
        {
          "output_type": "execute_result",
          "data": {
            "text/plain": [
              "[0, 1, 2, 3, 4, 5, 6, 7, 8, 9]"
            ]
          },
          "metadata": {
            "tags": []
          },
          "execution_count": 66
        }
      ]
    },
    {
      "cell_type": "code",
      "metadata": {
        "id": "o00Zg5bONUih",
        "colab": {
          "base_uri": "https://localhost:8080/"
        },
        "outputId": "0a08e725-5f16-494c-c8ba-ccfc10725ab1"
      },
      "source": [
        "for i in range (2,7):\n",
        " print(i)"
      ],
      "execution_count": 67,
      "outputs": [
        {
          "output_type": "stream",
          "text": [
            "2\n",
            "3\n",
            "4\n",
            "5\n",
            "6\n"
          ],
          "name": "stdout"
        }
      ]
    },
    {
      "cell_type": "code",
      "metadata": {
        "id": "lrc-Sq3VOQuL",
        "colab": {
          "base_uri": "https://localhost:8080/"
        },
        "outputId": "f75a32f9-4f29-415c-a950-aff20c4d4b0c"
      },
      "source": [
        "for i in range (2,7,2):\n",
        " print(i)"
      ],
      "execution_count": 68,
      "outputs": [
        {
          "output_type": "stream",
          "text": [
            "2\n",
            "4\n",
            "6\n"
          ],
          "name": "stdout"
        }
      ]
    },
    {
      "cell_type": "code",
      "metadata": {
        "id": "IvL-Z8dJqDCf",
        "colab": {
          "base_uri": "https://localhost:8080/"
        },
        "outputId": "a4529373-e1e1-448a-d0c3-81c2a35ee344"
      },
      "source": [
        "for i in range(5):\n",
        "    print('hahaha')"
      ],
      "execution_count": 69,
      "outputs": [
        {
          "output_type": "stream",
          "text": [
            "hahaha\n",
            "hahaha\n",
            "hahaha\n",
            "hahaha\n",
            "hahaha\n"
          ],
          "name": "stdout"
        }
      ]
    },
    {
      "cell_type": "code",
      "metadata": {
        "id": "088fb3D-OTSL",
        "colab": {
          "base_uri": "https://localhost:8080/"
        },
        "outputId": "b9a495f6-bf01-4a6d-cb18-d85c76c947c8"
      },
      "source": [
        "for i in range (5):\n",
        " print('hahaha')\n",
        " x = i+3\n",
        " print(f'i={i} x={x}')"
      ],
      "execution_count": 70,
      "outputs": [
        {
          "output_type": "stream",
          "text": [
            "hahaha\n",
            "i=0 x=3\n",
            "hahaha\n",
            "i=1 x=4\n",
            "hahaha\n",
            "i=2 x=5\n",
            "hahaha\n",
            "i=3 x=6\n",
            "hahaha\n",
            "i=4 x=7\n"
          ],
          "name": "stdout"
        }
      ]
    },
    {
      "cell_type": "markdown",
      "metadata": {
        "id": "kssU7aYKPJ1I"
      },
      "source": [
        "**Nested Loop**"
      ]
    },
    {
      "cell_type": "code",
      "metadata": {
        "id": "mRGaGNy9p5Fr",
        "colab": {
          "base_uri": "https://localhost:8080/"
        },
        "outputId": "2ee44b7e-21ba-4dff-d9d9-2941f006eda4"
      },
      "source": [
        "for i in range(3):\n",
        "    for j in range(4):\n",
        "        print(f' i= {i} j ={j} i+j={i+j}')"
      ],
      "execution_count": 71,
      "outputs": [
        {
          "output_type": "stream",
          "text": [
            " i= 0 j =0 i+j=0\n",
            " i= 0 j =1 i+j=1\n",
            " i= 0 j =2 i+j=2\n",
            " i= 0 j =3 i+j=3\n",
            " i= 1 j =0 i+j=1\n",
            " i= 1 j =1 i+j=2\n",
            " i= 1 j =2 i+j=3\n",
            " i= 1 j =3 i+j=4\n",
            " i= 2 j =0 i+j=2\n",
            " i= 2 j =1 i+j=3\n",
            " i= 2 j =2 i+j=4\n",
            " i= 2 j =3 i+j=5\n"
          ],
          "name": "stdout"
        }
      ]
    },
    {
      "cell_type": "code",
      "metadata": {
        "id": "u32GRLWOPJep",
        "colab": {
          "base_uri": "https://localhost:8080/"
        },
        "outputId": "2bf1df17-6d0f-461e-8ab7-3c5233dce77d"
      },
      "source": [
        "for i in range(3):\n",
        "  print(f'now i = {i}')\n",
        "  print('start j loop')\n",
        "  for j in range(4):\n",
        "    print(f'i = {i} j={j} i+j = {i+j}')\n",
        "  print('end j loop')"
      ],
      "execution_count": 72,
      "outputs": [
        {
          "output_type": "stream",
          "text": [
            "now i = 0\n",
            "start j loop\n",
            "i = 0 j=0 i+j = 0\n",
            "i = 0 j=1 i+j = 1\n",
            "i = 0 j=2 i+j = 2\n",
            "i = 0 j=3 i+j = 3\n",
            "end j loop\n",
            "now i = 1\n",
            "start j loop\n",
            "i = 1 j=0 i+j = 1\n",
            "i = 1 j=1 i+j = 2\n",
            "i = 1 j=2 i+j = 3\n",
            "i = 1 j=3 i+j = 4\n",
            "end j loop\n",
            "now i = 2\n",
            "start j loop\n",
            "i = 2 j=0 i+j = 2\n",
            "i = 2 j=1 i+j = 3\n",
            "i = 2 j=2 i+j = 4\n",
            "i = 2 j=3 i+j = 5\n",
            "end j loop\n"
          ],
          "name": "stdout"
        }
      ]
    },
    {
      "cell_type": "markdown",
      "metadata": {
        "id": "8WUCLJ-oHkej"
      },
      "source": [
        "**Condition**\n",
        "**if statement (เงื่อนไข)**\n"
      ]
    },
    {
      "cell_type": "markdown",
      "metadata": {
        "id": "5dmROo-uFtmi"
      },
      "source": [
        "```python\n",
        "if เงื่อนไขที่จะตรวจสอบ :\n",
        "    ถ้าเงื่อนไขเป็นจริง ทำงาน 1\n",
        "    ถ้าเงื่อนไขเป็นจริง ทำงาน 2\n",
        "elif เงื่อนไขที่จะตรวจสอบต่อไปถ้าเงื่อนไขข้างบนไม่เป็นจริง :\n",
        "    ถ้าเงื่อนไขเป็นจริง ทำงาน a1\n",
        "    ถ้าเงื่อนไขเป็นจริง ทำงาน a2\n",
        "elif เงื่อนไขที่จะตรวจสอบต่อไปถ้าเงื่อนไขข้างบนไม่เป็นจริง :\n",
        "    ถ้าเงื่อนไขเป็นจริง ทำงาน b1\n",
        "    ถ้าเงื่อนไขเป็นจริง ทำงาน b2\n",
        "else : # ตรวจสอบเงื่อนไขข้างบนแล้วไม่เป็นจริง\n",
        "    ทำงานที่ x\n",
        "```\n",
        "\n"
      ]
    },
    {
      "cell_type": "code",
      "metadata": {
        "id": "J6RX9BRWHLaX",
        "colab": {
          "base_uri": "https://localhost:8080/"
        },
        "outputId": "a7f5a90c-8f6b-445a-f914-4b1373ce87f5"
      },
      "source": [
        "stringx = 'sadfdcsfgadfsdfadsdfasdgsafsghkjnimokp' # ถ้าถูกจะแสดงผลออกมา\n",
        "\n",
        "if len(stringx) > 30:\n",
        "  print(f'{stringx} is longer than 30 characters')"
      ],
      "execution_count": 79,
      "outputs": [
        {
          "output_type": "stream",
          "text": [
            "sadfdcsfgadfsdfadsdfasdgsafsghkjnimokp is longer than 30 characters\n"
          ],
          "name": "stdout"
        }
      ]
    },
    {
      "cell_type": "markdown",
      "metadata": {
        "id": "gzXLeJwTKf5P"
      },
      "source": [
        "```python\n",
        "if เงื่อนไขที่จะตรวจสอบ (โดยใช้สัญลักษณ์ ==,!=,<,>,<=,>=) :\n",
        "    ถ้าเงื่อนไขเป็นจริง ทำงาน 1\n",
        "    ถ้าเงื่อนไขเป็นจริง ทำงาน 2\n",
        "elif เงื่อนไขที่จะตรวจสอบต่อไปถ้าเงื่อนไขข้างบนไม่เป็นจริง :\n",
        "    ถ้าเงื่อนไขเป็นจริง ทำงาน a1\n",
        "    ถ้าเงื่อนไขเป็นจริง ทำงาน a2\n",
        "elif เงื่อนไขที่จะตรวจสอบต่อไปถ้าเงื่อนไขข้างบนไม่เป็นจริง :\n",
        "    ถ้าเงื่อนไขเป็นจริง ทำงาน b1\n",
        "    ถ้าเงื่อนไขเป็นจริง ทำงาน b2\n",
        "else : # ตรวจสอบเงื่อนไขข้างบนแล้วไม่เป็นจริง\n",
        "    ทำงานที่ x\n",
        "```"
      ]
    },
    {
      "cell_type": "code",
      "metadata": {
        "colab": {
          "base_uri": "https://localhost:8080/"
        },
        "id": "MF5X3q4BHBdE",
        "outputId": "4034fb59-8312-4e57-a645-4bdd1a6e1fe9"
      },
      "source": [
        "stringx = 'sadfdcsfgadfsdfadsdfasdgsafsghkjnimokp'\n",
        "\n",
        "if len(stringx) > 100:\n",
        "  print(f'{stringx} is longer than 30 characters')\n",
        "else:\n",
        "  print(f'{stringx} in {len(stringx)} characters long') # เป็นการบอกว่าถ้ามันไม่ตรงกับเงื่อนไข แล้วให้แสดงความยาวขของมัน"
      ],
      "execution_count": 80,
      "outputs": [
        {
          "output_type": "stream",
          "text": [
            "sadfdcsfgadfsdfadsdfasdgsafsghkjnimokp in 38 characters long\n"
          ],
          "name": "stdout"
        }
      ]
    },
    {
      "cell_type": "code",
      "metadata": {
        "colab": {
          "base_uri": "https://localhost:8080/"
        },
        "id": "PbT5DUpbLKHX",
        "outputId": "23ce1a59-f421-4750-882b-1c06cf4782de"
      },
      "source": [
        "password = '12345'\n",
        "\n",
        "input_pass = '123'\n",
        "if input_pass == password :\n",
        "  print('Welcome!')\n",
        "elif len(input_pass) > len(password) :\n",
        "  print('Too Long,try agian!')\n",
        "elif len(input_pass) < len(password) :\n",
        "  print('Too short,try agian!')\n",
        "else :\n",
        "  print('Wrong password,try again!')"
      ],
      "execution_count": 83,
      "outputs": [
        {
          "output_type": "stream",
          "text": [
            "Too short,try agian!\n"
          ],
          "name": "stdout"
        }
      ]
    },
    {
      "cell_type": "markdown",
      "metadata": {
        "id": "IS8KF16ZLD3U"
      },
      "source": [
        "**Quiz1 หา Min**"
      ]
    },
    {
      "cell_type": "code",
      "metadata": {
        "id": "IVjxANu-Ng5e"
      },
      "source": [
        "list_ex = [1,5,9,-19,-2,0] #หาค่าน้อยที่สุดใน list_ex โดยไม่ใช้ function min"
      ],
      "execution_count": 92,
      "outputs": []
    },
    {
      "cell_type": "code",
      "metadata": {
        "colab": {
          "base_uri": "https://localhost:8080/"
        },
        "id": "-aCFlkSXOEWq",
        "outputId": "b7ccd335-ea29-40b6-e20f-a14740ba8363"
      },
      "source": [
        "if list_ex == min:\n",
        "  print(f'{list_ex} is min')\n",
        "else:\n",
        "  print(f'{list_ex} in max')"
      ],
      "execution_count": 96,
      "outputs": [
        {
          "output_type": "stream",
          "text": [
            "[1, 5, 9, -19, -2, 0] in max\n"
          ],
          "name": "stdout"
        }
      ]
    },
    {
      "cell_type": "markdown",
      "metadata": {
        "id": "V-9kgWHUSl57"
      },
      "source": [
        "**เฉลย**"
      ]
    },
    {
      "cell_type": "code",
      "metadata": {
        "colab": {
          "base_uri": "https://localhost:8080/"
        },
        "id": "gXD6v28KSloK",
        "outputId": "e09d6b55-a953-4763-bdb6-7caa42f92c51"
      },
      "source": [
        "min = 1000000\n",
        "for i in list_ex :\n",
        "  if i < min :\n",
        "    min = i\n",
        "print(min)\n"
      ],
      "execution_count": 95,
      "outputs": [
        {
          "output_type": "stream",
          "text": [
            "-19\n"
          ],
          "name": "stdout"
        }
      ]
    },
    {
      "cell_type": "code",
      "metadata": {
        "colab": {
          "base_uri": "https://localhost:8080/"
        },
        "id": "f0SBRSptUCeO",
        "outputId": "4afdffbf-86ac-4982-8842-48b0e5f03400"
      },
      "source": [
        "min = 1000000\n",
        "print(list_ex)\n",
        "for i in list_ex:\n",
        "  print (f'now i = {i},min = {min}')\n",
        "  print('start condition')\n",
        "  if i < min :\n",
        "    print(f'i < min,update i to -> {i}')\n",
        "    min = i\n",
        "  else:\n",
        "      print('i >= min,not update')\n",
        "  print('end condition,go to next i')\n",
        "\n",
        "print(min)"
      ],
      "execution_count": 104,
      "outputs": [
        {
          "output_type": "stream",
          "text": [
            "[1, 5, 9, -19, -2, 0]\n",
            "now i = 1,min = 1000000\n",
            "start condition\n",
            "i < min,update i to -> 1\n",
            "end condition,go to next i\n",
            "now i = 5,min = 1\n",
            "start condition\n",
            "i >= min,not update\n",
            "end condition,go to next i\n",
            "now i = 9,min = 1\n",
            "start condition\n",
            "i >= min,not update\n",
            "end condition,go to next i\n",
            "now i = -19,min = 1\n",
            "start condition\n",
            "i < min,update i to -> -19\n",
            "end condition,go to next i\n",
            "now i = -2,min = -19\n",
            "start condition\n",
            "i >= min,not update\n",
            "end condition,go to next i\n",
            "now i = 0,min = -19\n",
            "start condition\n",
            "i >= min,not update\n",
            "end condition,go to next i\n",
            "-19\n"
          ],
          "name": "stdout"
        }
      ]
    },
    {
      "cell_type": "markdown",
      "metadata": {
        "id": "Hiqh6xk9LHmB"
      },
      "source": [
        "**HW3 ตัดเกรด**"
      ]
    },
    {
      "cell_type": "code",
      "metadata": {
        "id": "k20Ke4siVwsG"
      },
      "source": [
        "score = [49,65,70,95,82,55,89,20,77,77,81,59,10] # ตัดเกรด คะแนนใน list (ใช้ if กับ for)"
      ],
      "execution_count": null,
      "outputs": []
    },
    {
      "cell_type": "markdown",
      "metadata": {
        "id": "Z54qnCfaFr0J"
      },
      "source": [
        "**Function**"
      ]
    }
  ]
}