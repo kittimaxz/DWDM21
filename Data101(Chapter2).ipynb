{
  "nbformat": 4,
  "nbformat_minor": 0,
  "metadata": {
    "colab": {
      "name": "Data101(Chapter2).ipynb",
      "provenance": [],
      "authorship_tag": "ABX9TyOaeNdKn/OnQqWin0QTLVTu",
      "include_colab_link": true
    },
    "kernelspec": {
      "name": "python3",
      "display_name": "Python 3"
    },
    "language_info": {
      "name": "python"
    }
  },
  "cells": [
    {
      "cell_type": "markdown",
      "metadata": {
        "id": "view-in-github",
        "colab_type": "text"
      },
      "source": [
        "<a href=\"https://colab.research.google.com/github/kittimaxz/DWDM21/blob/main/Data101(Chapter2).ipynb\" target=\"_parent\"><img src=\"https://colab.research.google.com/assets/colab-badge.svg\" alt=\"Open In Colab\"/></a>"
      ]
    },
    {
      "cell_type": "markdown",
      "metadata": {
        "id": "o32H4vGsz6yM"
      },
      "source": [
        "ข้อความที่อยู่ใน package จะเป็นภาษา Markdown"
      ]
    },
    {
      "cell_type": "markdown",
      "metadata": {
        "id": "fXFOyQRjtqJt"
      },
      "source": [
        "ข้อดีหนึ่งของ Python คือมี package สำหรับทำงานต่างๆ มากมาย \n",
        "\n",
        "ซึ่ง pandas เป็น package สำหรับการทำงานกับข้อมูลที่อยู่ในตาราง \n",
        "\n",
        "โดย pandas จะเรียกตารางนั้นว่า dataframe"
      ]
    },
    {
      "cell_type": "code",
      "metadata": {
        "id": "WUnCCzegr9gy"
      },
      "source": [
        "import pandas  # เป็นวิธีเรียกใช้ package คือ import ตามด้วยชื่อ package โดย pandas เกี่ยวกับการเรียกใช้ข้อมูล"
      ],
      "execution_count": null,
      "outputs": []
    },
    {
      "cell_type": "code",
      "metadata": {
        "id": "l7VX1a68tEnK"
      },
      "source": [
        "import pandas as pd # เหมือนกับข้างบนแต่ว่า ตั้งชื่อให้ package ที่โหลดมาใหม่ว่า pd เพื่อการเรียกใช้ที่สั้นลง"
      ],
      "execution_count": null,
      "outputs": []
    },
    {
      "cell_type": "markdown",
      "metadata": {
        "id": "w0tUa4Z3uuxp"
      },
      "source": [
        "ไลฟ์ .csv (CSV = comma separated values) เป็นไฟล์หลักที่เราจะได้ใช้กันในวิชานี้\n",
        "\n",
        ".csv เป็นไฟล์ที่จัดเก็บข้อมูลได้อ่านง่าย ทั้งคนและคอมพิวเตอร์\n"
      ]
    },
    {
      "cell_type": "code",
      "metadata": {
        "id": "8ABu4fAZvUFC"
      },
      "source": [
        "data_df = pd.read_csv('data.csv')"
      ],
      "execution_count": null,
      "outputs": []
    },
    {
      "cell_type": "code",
      "metadata": {
        "id": "gnoyKq3wxOPj",
        "colab": {
          "base_uri": "https://localhost:8080/",
          "height": 142
        },
        "outputId": "1cafd60c-c363-4633-9802-ed51721d06a8"
      },
      "source": [
        "data_df"
      ],
      "execution_count": null,
      "outputs": [
        {
          "output_type": "execute_result",
          "data": {
            "text/html": [
              "<div>\n",
              "<style scoped>\n",
              "    .dataframe tbody tr th:only-of-type {\n",
              "        vertical-align: middle;\n",
              "    }\n",
              "\n",
              "    .dataframe tbody tr th {\n",
              "        vertical-align: top;\n",
              "    }\n",
              "\n",
              "    .dataframe thead th {\n",
              "        text-align: right;\n",
              "    }\n",
              "</style>\n",
              "<table border=\"1\" class=\"dataframe\">\n",
              "  <thead>\n",
              "    <tr style=\"text-align: right;\">\n",
              "      <th></th>\n",
              "      <th>name</th>\n",
              "      <th>age</th>\n",
              "      <th>city</th>\n",
              "    </tr>\n",
              "  </thead>\n",
              "  <tbody>\n",
              "    <tr>\n",
              "      <th>0</th>\n",
              "      <td>Tom</td>\n",
              "      <td>27</td>\n",
              "      <td>Khon Kaen</td>\n",
              "    </tr>\n",
              "    <tr>\n",
              "      <th>1</th>\n",
              "      <td>Pual</td>\n",
              "      <td>15</td>\n",
              "      <td>Bankok</td>\n",
              "    </tr>\n",
              "    <tr>\n",
              "      <th>2</th>\n",
              "      <td>Sarah</td>\n",
              "      <td>49</td>\n",
              "      <td>London</td>\n",
              "    </tr>\n",
              "  </tbody>\n",
              "</table>\n",
              "</div>"
            ],
            "text/plain": [
              "    name  age       city\n",
              "0    Tom   27  Khon Kaen\n",
              "1   Pual   15     Bankok\n",
              "2  Sarah   49     London"
            ]
          },
          "metadata": {
            "tags": []
          },
          "execution_count": 6
        }
      ]
    },
    {
      "cell_type": "code",
      "metadata": {
        "id": "5w3fHVhoxUAS",
        "colab": {
          "base_uri": "https://localhost:8080/",
          "height": 142
        },
        "outputId": "7d13a0bf-62a4-4eee-9152-c49240a1c940"
      },
      "source": [
        "data_df2 = pandas.read_csv('data.csv')\n",
        "data_df2"
      ],
      "execution_count": null,
      "outputs": [
        {
          "output_type": "execute_result",
          "data": {
            "text/html": [
              "<div>\n",
              "<style scoped>\n",
              "    .dataframe tbody tr th:only-of-type {\n",
              "        vertical-align: middle;\n",
              "    }\n",
              "\n",
              "    .dataframe tbody tr th {\n",
              "        vertical-align: top;\n",
              "    }\n",
              "\n",
              "    .dataframe thead th {\n",
              "        text-align: right;\n",
              "    }\n",
              "</style>\n",
              "<table border=\"1\" class=\"dataframe\">\n",
              "  <thead>\n",
              "    <tr style=\"text-align: right;\">\n",
              "      <th></th>\n",
              "      <th>name</th>\n",
              "      <th>age</th>\n",
              "      <th>city</th>\n",
              "    </tr>\n",
              "  </thead>\n",
              "  <tbody>\n",
              "    <tr>\n",
              "      <th>0</th>\n",
              "      <td>Tom</td>\n",
              "      <td>27</td>\n",
              "      <td>Khon Kaen</td>\n",
              "    </tr>\n",
              "    <tr>\n",
              "      <th>1</th>\n",
              "      <td>Pual</td>\n",
              "      <td>15</td>\n",
              "      <td>Bankok</td>\n",
              "    </tr>\n",
              "    <tr>\n",
              "      <th>2</th>\n",
              "      <td>Sarah</td>\n",
              "      <td>49</td>\n",
              "      <td>London</td>\n",
              "    </tr>\n",
              "  </tbody>\n",
              "</table>\n",
              "</div>"
            ],
            "text/plain": [
              "    name  age       city\n",
              "0    Tom   27  Khon Kaen\n",
              "1   Pual   15     Bankok\n",
              "2  Sarah   49     London"
            ]
          },
          "metadata": {
            "tags": []
          },
          "execution_count": 7
        }
      ]
    },
    {
      "cell_type": "markdown",
      "metadata": {
        "id": "UdJ0BQsTzoaT"
      },
      "source": [
        "# Basic Python\n",
        "## Variables"
      ]
    },
    {
      "cell_type": "markdown",
      "metadata": {
        "id": "by5aUOeD2quf"
      },
      "source": [
        "ข้อกำหนดในการกำหนดตัวแปร\n",
        "\n",
        "  1. ชื่อห้ามมีเว้นวรรค\n",
        "  2. (พยายาม)ใช้ภาษาอังกฤษ\n",
        "  3. ตัวเล็กตัวใหญ่ต่างกัน (case sensitive)\n",
        "  4. ห้ามใช้ตัวเลขเป็นตัวหน้า"
      ]
    },
    {
      "cell_type": "code",
      "metadata": {
        "id": "FH70twgZySfe"
      },
      "source": [
        "variable_a = 12\n",
        "variable_b = 'abcde' # ' เรียกว่า quote แสดงเป็นข้อมูลตัวอักษร หรือ string\n",
        "variable_c = variable_a"
      ],
      "execution_count": null,
      "outputs": []
    },
    {
      "cell_type": "code",
      "metadata": {
        "id": "i53y1gur1K7y",
        "colab": {
          "base_uri": "https://localhost:8080/"
        },
        "outputId": "c99f5124-eb3c-4b56-cb0e-7a0ee1dcb0a0"
      },
      "source": [
        "variable_a"
      ],
      "execution_count": null,
      "outputs": [
        {
          "output_type": "execute_result",
          "data": {
            "text/plain": [
              "12"
            ]
          },
          "metadata": {
            "tags": []
          },
          "execution_count": 9
        }
      ]
    },
    {
      "cell_type": "code",
      "metadata": {
        "id": "RrHI7N8I1OH9",
        "colab": {
          "base_uri": "https://localhost:8080/",
          "height": 35
        },
        "outputId": "63de1960-f33d-40f6-91c5-7953b79c3072"
      },
      "source": [
        "variable_b"
      ],
      "execution_count": null,
      "outputs": [
        {
          "output_type": "execute_result",
          "data": {
            "application/vnd.google.colaboratory.intrinsic+json": {
              "type": "string"
            },
            "text/plain": [
              "'abcde'"
            ]
          },
          "metadata": {
            "tags": []
          },
          "execution_count": 10
        }
      ]
    },
    {
      "cell_type": "code",
      "metadata": {
        "id": "2Y-o7_Do1QJb",
        "colab": {
          "base_uri": "https://localhost:8080/"
        },
        "outputId": "581e7f25-d267-426c-ad6c-93dd0c40dd8a"
      },
      "source": [
        "variable_c"
      ],
      "execution_count": null,
      "outputs": [
        {
          "output_type": "execute_result",
          "data": {
            "text/plain": [
              "12"
            ]
          },
          "metadata": {
            "tags": []
          },
          "execution_count": 11
        }
      ]
    },
    {
      "cell_type": "code",
      "metadata": {
        "id": "WmTiX1rv1Sb6",
        "colab": {
          "base_uri": "https://localhost:8080/",
          "height": 130
        },
        "outputId": "3f705aac-6465-4a11-a790-2223fec9bc38"
      },
      "source": [
        "#ชื่อห้ามมีเว้นวรรค\n",
        "variable a = 6"
      ],
      "execution_count": null,
      "outputs": [
        {
          "output_type": "error",
          "ename": "SyntaxError",
          "evalue": "ignored",
          "traceback": [
            "\u001b[0;36m  File \u001b[0;32m\"<ipython-input-12-67da5c6c279d>\"\u001b[0;36m, line \u001b[0;32m2\u001b[0m\n\u001b[0;31m    variable a = 6\u001b[0m\n\u001b[0m             ^\u001b[0m\n\u001b[0;31mSyntaxError\u001b[0m\u001b[0;31m:\u001b[0m invalid syntax\n"
          ]
        }
      ]
    },
    {
      "cell_type": "code",
      "metadata": {
        "id": "2p-ECWG43Ofa",
        "colab": {
          "base_uri": "https://localhost:8080/"
        },
        "outputId": "4395bb39-633f-4986-8d0d-d5dde9046fa4"
      },
      "source": [
        "#(พยายาม)ใช้ภาษาอังกฤษ\n",
        "# colab ใช้ภาษาไทย เป็นชื่อตัวแปรได้ แต่ไม่ควรทำ\n",
        "ตัวแปร = 3 \n",
        "ตัวแปร"
      ],
      "execution_count": null,
      "outputs": [
        {
          "output_type": "execute_result",
          "data": {
            "text/plain": [
              "3"
            ]
          },
          "metadata": {
            "tags": []
          },
          "execution_count": 13
        }
      ]
    },
    {
      "cell_type": "code",
      "metadata": {
        "id": "MBoqU2pD3f-6",
        "colab": {
          "base_uri": "https://localhost:8080/"
        },
        "outputId": "5f10fc83-dbc8-45e7-ebfc-a47d032d0623"
      },
      "source": [
        "#ตัวเล็กตัวใหญ่ต่างกัน (case sensitive)\n",
        "v_a = 1\n",
        "V_a = 2\n",
        "print(v_a)\n",
        "print(V_a)"
      ],
      "execution_count": null,
      "outputs": [
        {
          "output_type": "stream",
          "text": [
            "1\n",
            "2\n"
          ],
          "name": "stdout"
        }
      ]
    },
    {
      "cell_type": "code",
      "metadata": {
        "id": "GEz3XcTpkPrr",
        "colab": {
          "base_uri": "https://localhost:8080/"
        },
        "outputId": "868666c9-5dbc-46c3-b467-7939ad0e3d14"
      },
      "source": [
        "# ตัวเล็กกับตัวใหญ่ แตกต่างกัน (case sensitive)\n",
        "v_a = 1\n",
        "v_a = 2\n",
        "print(v_a)\n",
        "print(v_a)"
      ],
      "execution_count": null,
      "outputs": [
        {
          "output_type": "stream",
          "text": [
            "2\n",
            "2\n"
          ],
          "name": "stdout"
        }
      ]
    },
    {
      "cell_type": "code",
      "metadata": {
        "id": "Q1tbv7mPkgzD",
        "colab": {
          "base_uri": "https://localhost:8080/",
          "height": 130
        },
        "outputId": "1c0e2570-e84c-41ad-9608-b0dfd9c96022"
      },
      "source": [
        "# ห้ามใช้ตัวเลขเป็นตัวหน้า\n",
        "2 = 1"
      ],
      "execution_count": null,
      "outputs": [
        {
          "output_type": "error",
          "ename": "SyntaxError",
          "evalue": "ignored",
          "traceback": [
            "\u001b[0;36m  File \u001b[0;32m\"<ipython-input-16-24eb8a2ec18c>\"\u001b[0;36m, line \u001b[0;32m2\u001b[0m\n\u001b[0;31m    2 = 1\u001b[0m\n\u001b[0m         ^\u001b[0m\n\u001b[0;31mSyntaxError\u001b[0m\u001b[0;31m:\u001b[0m can't assign to literal\n"
          ]
        }
      ]
    },
    {
      "cell_type": "code",
      "metadata": {
        "colab": {
          "base_uri": "https://localhost:8080/",
          "height": 130
        },
        "id": "SQuh00dK4GXd",
        "outputId": "cf484f32-cd24-4f82-a2e2-cf8100df659f"
      },
      "source": [
        "#ห้ามใช้ตัวเลขเป็นตัวหน้า\n",
        "2ab = 1"
      ],
      "execution_count": null,
      "outputs": [
        {
          "output_type": "error",
          "ename": "SyntaxError",
          "evalue": "ignored",
          "traceback": [
            "\u001b[0;36m  File \u001b[0;32m\"<ipython-input-17-b408d3f2d8a4>\"\u001b[0;36m, line \u001b[0;32m2\u001b[0m\n\u001b[0;31m    2ab = 1\u001b[0m\n\u001b[0m      ^\u001b[0m\n\u001b[0;31mSyntaxError\u001b[0m\u001b[0;31m:\u001b[0m invalid syntax\n"
          ]
        }
      ]
    },
    {
      "cell_type": "code",
      "metadata": {
        "id": "ppmgpyTykong"
      },
      "source": [
        "# ห้ามใช้ตัวเลขเป็นตัวหน้า\n",
        "variable1 = 1"
      ],
      "execution_count": null,
      "outputs": []
    },
    {
      "cell_type": "code",
      "metadata": {
        "id": "2A7I5Xr2kxSb",
        "colab": {
          "base_uri": "https://localhost:8080/"
        },
        "outputId": "85b91ce5-e64e-46c2-b086-00ea3c573755"
      },
      "source": [
        "print(variable1)"
      ],
      "execution_count": null,
      "outputs": [
        {
          "output_type": "stream",
          "text": [
            "1\n"
          ],
          "name": "stdout"
        }
      ]
    },
    {
      "cell_type": "code",
      "metadata": {
        "id": "wkc5Mqoq4McO"
      },
      "source": [
        "variable_a = 12\n",
        "variable_b = 'abcde' # ' เรียกว่า quote แสดงข้อมูลที่เป็นตัวอักษร หรือ string\n",
        "variable_c = variable_a\n",
        "variable_d = -41.2\n",
        "variable_4 = \"KKU\" # \" เรียกว่า double quote ใช้แสดงข้อมูลเหมือนกับ ' เลือกใช้แทนกันได้"
      ],
      "execution_count": null,
      "outputs": []
    },
    {
      "cell_type": "code",
      "metadata": {
        "id": "fcO9mSwS4nZy",
        "colab": {
          "base_uri": "https://localhost:8080/"
        },
        "outputId": "0c491bf9-1ec4-4427-a314-fdcdce95a423"
      },
      "source": [
        "variable_x = variable_c + variable_d\n",
        "print(variable_x)"
      ],
      "execution_count": null,
      "outputs": [
        {
          "output_type": "stream",
          "text": [
            "-29.200000000000003\n"
          ],
          "name": "stdout"
        }
      ]
    },
    {
      "cell_type": "code",
      "metadata": {
        "id": "mPgoHYRa44C9",
        "colab": {
          "base_uri": "https://localhost:8080/",
          "height": 163
        },
        "outputId": "de7162a0-8dc9-4ae7-b225-330f898dc2d2"
      },
      "source": [
        "variable_a + variable_b # ตัวเลขกับตัวอักษรไม่สามารถนำมาบวกกันได้"
      ],
      "execution_count": null,
      "outputs": [
        {
          "output_type": "error",
          "ename": "TypeError",
          "evalue": "ignored",
          "traceback": [
            "\u001b[0;31m---------------------------------------------------------------------------\u001b[0m",
            "\u001b[0;31mTypeError\u001b[0m                                 Traceback (most recent call last)",
            "\u001b[0;32m<ipython-input-23-2cf49085095c>\u001b[0m in \u001b[0;36m<module>\u001b[0;34m()\u001b[0m\n\u001b[0;32m----> 1\u001b[0;31m \u001b[0mvariable_a\u001b[0m \u001b[0;34m+\u001b[0m \u001b[0mvariable_b\u001b[0m \u001b[0;31m# ตัวเลขกับตัวอักษรไม่สามารถนำมาบวกกันได้\u001b[0m\u001b[0;34m\u001b[0m\u001b[0;34m\u001b[0m\u001b[0m\n\u001b[0m",
            "\u001b[0;31mTypeError\u001b[0m: unsupported operand type(s) for +: 'int' and 'str'"
          ]
        }
      ]
    },
    {
      "cell_type": "code",
      "metadata": {
        "id": "MjyyQ7Ry6gL3",
        "colab": {
          "base_uri": "https://localhost:8080/"
        },
        "outputId": "e61cc90c-e1ff-4480-d765-2067416f33d5"
      },
      "source": [
        "print(variable_b + variable_4) # ตัวอักษรกับตัวอักษรสามารถนำมาบวกกันได้"
      ],
      "execution_count": null,
      "outputs": [
        {
          "output_type": "stream",
          "text": [
            "abcdeKKU\n"
          ],
          "name": "stdout"
        }
      ]
    },
    {
      "cell_type": "markdown",
      "metadata": {
        "id": "y_kIiLZr7MTz"
      },
      "source": [
        "**Casting int() float() str()**"
      ]
    },
    {
      "cell_type": "code",
      "metadata": {
        "colab": {
          "base_uri": "https://localhost:8080/"
        },
        "id": "z8eUaKVw6mp3",
        "outputId": "2c1340f0-fa46-4c27-9c15-ebce50639e21"
      },
      "source": [
        "print(variable_x)\n",
        "print(int(variable_x)) # เป็นการเปลี่ยนจาก float เป็น int"
      ],
      "execution_count": null,
      "outputs": [
        {
          "output_type": "stream",
          "text": [
            "-29.200000000000003\n",
            "-29\n"
          ],
          "name": "stdout"
        }
      ]
    },
    {
      "cell_type": "code",
      "metadata": {
        "colab": {
          "base_uri": "https://localhost:8080/",
          "height": 130
        },
        "id": "PUieAD7U7d42",
        "outputId": "4a1f5178-ceb5-45e5-e926-af1e2cbcc79b"
      },
      "source": [
        "V_X = str(variable_x) เป็นการเปลี่ยนจากตัวเลขเป็นทศนิยม\n",
        "print(V_X)"
      ],
      "execution_count": null,
      "outputs": [
        {
          "output_type": "error",
          "ename": "SyntaxError",
          "evalue": "ignored",
          "traceback": [
            "\u001b[0;36m  File \u001b[0;32m\"<ipython-input-26-6c404e40030f>\"\u001b[0;36m, line \u001b[0;32m1\u001b[0m\n\u001b[0;31m    V_X = str(variable_x) เป็นการเปลี่ยนจากตัวเลขเป็นทศนิยม\u001b[0m\n\u001b[0m                                                          ^\u001b[0m\n\u001b[0;31mSyntaxError\u001b[0m\u001b[0;31m:\u001b[0m invalid syntax\n"
          ]
        }
      ]
    },
    {
      "cell_type": "code",
      "metadata": {
        "id": "QNf7K4m2735G",
        "colab": {
          "base_uri": "https://localhost:8080/",
          "height": 163
        },
        "outputId": "d5a6f59c-5644-4cd2-fabe-3e50f501119b"
      },
      "source": [
        "V_X + variable_a"
      ],
      "execution_count": null,
      "outputs": [
        {
          "output_type": "error",
          "ename": "NameError",
          "evalue": "ignored",
          "traceback": [
            "\u001b[0;31m---------------------------------------------------------------------------\u001b[0m",
            "\u001b[0;31mNameError\u001b[0m                                 Traceback (most recent call last)",
            "\u001b[0;32m<ipython-input-27-d83c0918f5c6>\u001b[0m in \u001b[0;36m<module>\u001b[0;34m()\u001b[0m\n\u001b[0;32m----> 1\u001b[0;31m \u001b[0mV_X\u001b[0m \u001b[0;34m+\u001b[0m \u001b[0mvariable_a\u001b[0m\u001b[0;34m\u001b[0m\u001b[0;34m\u001b[0m\u001b[0m\n\u001b[0m",
            "\u001b[0;31mNameError\u001b[0m: name 'V_X' is not defined"
          ]
        }
      ]
    },
    {
      "cell_type": "code",
      "metadata": {
        "id": "HtHW3kGP77tf",
        "colab": {
          "base_uri": "https://localhost:8080/",
          "height": 163
        },
        "outputId": "3e29409a-b7a0-439a-f884-afc7f27e2c5a"
      },
      "source": [
        "variable_a + V_X "
      ],
      "execution_count": null,
      "outputs": [
        {
          "output_type": "error",
          "ename": "NameError",
          "evalue": "ignored",
          "traceback": [
            "\u001b[0;31m---------------------------------------------------------------------------\u001b[0m",
            "\u001b[0;31mNameError\u001b[0m                                 Traceback (most recent call last)",
            "\u001b[0;32m<ipython-input-28-0a1cd1ca5ad3>\u001b[0m in \u001b[0;36m<module>\u001b[0;34m()\u001b[0m\n\u001b[0;32m----> 1\u001b[0;31m \u001b[0mvariable_a\u001b[0m \u001b[0;34m+\u001b[0m \u001b[0mV_X\u001b[0m\u001b[0;34m\u001b[0m\u001b[0;34m\u001b[0m\u001b[0m\n\u001b[0m",
            "\u001b[0;31mNameError\u001b[0m: name 'V_X' is not defined"
          ]
        }
      ]
    },
    {
      "cell_type": "code",
      "metadata": {
        "id": "F4sW7lKk8BRz",
        "colab": {
          "base_uri": "https://localhost:8080/",
          "height": 163
        },
        "outputId": "3d97df79-7eca-436f-84be-030625778395"
      },
      "source": [
        "V_X # จากผลลัพธ์มี qoute อยู่แสดงว่าเป็น str"
      ],
      "execution_count": null,
      "outputs": [
        {
          "output_type": "error",
          "ename": "NameError",
          "evalue": "ignored",
          "traceback": [
            "\u001b[0;31m---------------------------------------------------------------------------\u001b[0m",
            "\u001b[0;31mNameError\u001b[0m                                 Traceback (most recent call last)",
            "\u001b[0;32m<ipython-input-30-5ca8e0fa936e>\u001b[0m in \u001b[0;36m<module>\u001b[0;34m()\u001b[0m\n\u001b[0;32m----> 1\u001b[0;31m \u001b[0mV_X\u001b[0m \u001b[0;31m# จากผลลัพธ์มี qoute อยู่แสดงว่าเป็น str\u001b[0m\u001b[0;34m\u001b[0m\u001b[0;34m\u001b[0m\u001b[0m\n\u001b[0m",
            "\u001b[0;31mNameError\u001b[0m: name 'V_X' is not defined"
          ]
        }
      ]
    },
    {
      "cell_type": "code",
      "metadata": {
        "id": "HpHz1MIE8fHT",
        "colab": {
          "base_uri": "https://localhost:8080/",
          "height": 163
        },
        "outputId": "6501f4ee-1b8a-4deb-8eda-101d2c240dc3"
      },
      "source": [
        "float(V_X) # เปลี่ยน str เป็น float"
      ],
      "execution_count": null,
      "outputs": [
        {
          "output_type": "error",
          "ename": "NameError",
          "evalue": "ignored",
          "traceback": [
            "\u001b[0;31m---------------------------------------------------------------------------\u001b[0m",
            "\u001b[0;31mNameError\u001b[0m                                 Traceback (most recent call last)",
            "\u001b[0;32m<ipython-input-32-832ead51124e>\u001b[0m in \u001b[0;36m<module>\u001b[0;34m()\u001b[0m\n\u001b[0;32m----> 1\u001b[0;31m \u001b[0mfloat\u001b[0m\u001b[0;34m(\u001b[0m\u001b[0mV_X\u001b[0m\u001b[0;34m)\u001b[0m \u001b[0;31m# เปลี่ยน str เป็น float\u001b[0m\u001b[0;34m\u001b[0m\u001b[0;34m\u001b[0m\u001b[0m\n\u001b[0m",
            "\u001b[0;31mNameError\u001b[0m: name 'V_X' is not defined"
          ]
        }
      ]
    },
    {
      "cell_type": "markdown",
      "metadata": {
        "id": "gwJ_mA-J82mC"
      },
      "source": [
        " **Data Srtucture**\n",
        "\n",
        " **list()** "
      ]
    },
    {
      "cell_type": "code",
      "metadata": {
        "id": "5eYglKq18p7N"
      },
      "source": [
        "list_a = [1,2,0.2,'abs'] # [] square brackets ใช้เก็บข้อมูล เก็บได้ทั้ง int,str,float,list ด้วยกันเอง\n",
        "list_b= [2,'xyz',list_a,[1,2,0.0]]"
      ],
      "execution_count": null,
      "outputs": []
    },
    {
      "cell_type": "code",
      "metadata": {
        "id": "xDR57Y9F9h0u",
        "colab": {
          "base_uri": "https://localhost:8080/"
        },
        "outputId": "42102592-0e0e-4626-bd43-d3c375094145"
      },
      "source": [
        "list_a"
      ],
      "execution_count": null,
      "outputs": [
        {
          "output_type": "execute_result",
          "data": {
            "text/plain": [
              "[1, 2, 0.2, 'abs']"
            ]
          },
          "metadata": {
            "tags": []
          },
          "execution_count": 34
        }
      ]
    },
    {
      "cell_type": "code",
      "metadata": {
        "id": "NJsSqdwm976Z",
        "colab": {
          "base_uri": "https://localhost:8080/"
        },
        "outputId": "3b629fc5-e721-4166-9dda-0e27a48e1e14"
      },
      "source": [
        "list_b"
      ],
      "execution_count": null,
      "outputs": [
        {
          "output_type": "execute_result",
          "data": {
            "text/plain": [
              "[2, 'xyz', [1, 2, 0.2, 'abs'], [1, 2, 0.0]]"
            ]
          },
          "metadata": {
            "tags": []
          },
          "execution_count": 35
        }
      ]
    },
    {
      "cell_type": "code",
      "metadata": {
        "id": "1sZLgfrz-MUo",
        "colab": {
          "base_uri": "https://localhost:8080/"
        },
        "outputId": "c19137ae-7cb4-4c48-c863-0edfe3c2fdb3"
      },
      "source": [
        "len(list_b) # len ย่อมาจาก leng ใช้ดูความยาว ซึ่งสามารถบอกได้ว่ามีความยาวเท่าไร"
      ],
      "execution_count": null,
      "outputs": [
        {
          "output_type": "execute_result",
          "data": {
            "text/plain": [
              "4"
            ]
          },
          "metadata": {
            "tags": []
          },
          "execution_count": 36
        }
      ]
    },
    {
      "cell_type": "code",
      "metadata": {
        "id": "fiRGVniy-PLG",
        "colab": {
          "base_uri": "https://localhost:8080/"
        },
        "outputId": "7133cd75-4dc6-464e-a2c4-deb8ebe44890"
      },
      "source": [
        "list_b[3] # เป็นการชี้ตำแหน่งของ list โดยเริ่มที่ตำแหน่งที่ 0 "
      ],
      "execution_count": null,
      "outputs": [
        {
          "output_type": "execute_result",
          "data": {
            "text/plain": [
              "[1, 2, 0.0]"
            ]
          },
          "metadata": {
            "tags": []
          },
          "execution_count": 37
        }
      ]
    },
    {
      "cell_type": "code",
      "metadata": {
        "id": "KKKnRhOX-dha",
        "colab": {
          "base_uri": "https://localhost:8080/"
        },
        "outputId": "d9e80ec2-d3c7-44c3-9354-71059b6cbe83"
      },
      "source": [
        "list_b[3][1] # เป็นการชี้ที่ตำแหน่งที่ 3 ก่อน (ในวงเล็บใหญ่) แล้วจึงชี้ในตำแหน่งที่ 1 (ในวงเล็บเล็ก)"
      ],
      "execution_count": null,
      "outputs": [
        {
          "output_type": "execute_result",
          "data": {
            "text/plain": [
              "2"
            ]
          },
          "metadata": {
            "tags": []
          },
          "execution_count": 38
        }
      ]
    },
    {
      "cell_type": "markdown",
      "metadata": {
        "id": "_IXslO-P-3td"
      },
      "source": [
        "string คือ list ของ ตัวหนังสือ"
      ]
    },
    {
      "cell_type": "code",
      "metadata": {
        "id": "GAd1r9Qr-rNl"
      },
      "source": [
        "a = 'Stat KKU'"
      ],
      "execution_count": null,
      "outputs": []
    },
    {
      "cell_type": "code",
      "metadata": {
        "id": "y2G_kcvJ_EMr",
        "colab": {
          "base_uri": "https://localhost:8080/",
          "height": 35
        },
        "outputId": "73139ad1-6ba2-46f1-d1d3-a97cb7f1af81"
      },
      "source": [
        "a[4]"
      ],
      "execution_count": null,
      "outputs": [
        {
          "output_type": "execute_result",
          "data": {
            "application/vnd.google.colaboratory.intrinsic+json": {
              "type": "string"
            },
            "text/plain": [
              "' '"
            ]
          },
          "metadata": {
            "tags": []
          },
          "execution_count": 40
        }
      ]
    },
    {
      "cell_type": "markdown",
      "metadata": {
        "id": "aqyhkC1W_nls"
      },
      "source": [
        "วิธีสร้าง list ว่าง"
      ]
    },
    {
      "cell_type": "code",
      "metadata": {
        "id": "Lsmrd2XI_Jpr"
      },
      "source": [
        "list_c = list() # แบบที่ 1\n",
        "list_d = [] # แบบที่ 2"
      ],
      "execution_count": null,
      "outputs": []
    },
    {
      "cell_type": "code",
      "metadata": {
        "id": "1k2qQmzm_3ln",
        "colab": {
          "base_uri": "https://localhost:8080/"
        },
        "outputId": "2da129f1-7505-4fca-ba71-370031bc39cc"
      },
      "source": [
        "list_c"
      ],
      "execution_count": null,
      "outputs": [
        {
          "output_type": "execute_result",
          "data": {
            "text/plain": [
              "[]"
            ]
          },
          "metadata": {
            "tags": []
          },
          "execution_count": 42
        }
      ]
    },
    {
      "cell_type": "code",
      "metadata": {
        "id": "L6JelCbWAEc9",
        "colab": {
          "base_uri": "https://localhost:8080/"
        },
        "outputId": "243f7a14-850e-46cd-c146-cddbfac70731"
      },
      "source": [
        "list_d"
      ],
      "execution_count": null,
      "outputs": [
        {
          "output_type": "execute_result",
          "data": {
            "text/plain": [
              "[]"
            ]
          },
          "metadata": {
            "tags": []
          },
          "execution_count": 43
        }
      ]
    },
    {
      "cell_type": "markdown",
      "metadata": {
        "id": "s9axtTtjAcA9"
      },
      "source": [
        "เติมค่าลงใน list ใช้คำสั่ง (.append())"
      ]
    },
    {
      "cell_type": "code",
      "metadata": {
        "id": "U9ml_p0CAGqz"
      },
      "source": [
        "list_d.append('a') "
      ],
      "execution_count": null,
      "outputs": []
    },
    {
      "cell_type": "code",
      "metadata": {
        "id": "7-Wob5X-AvOX",
        "colab": {
          "base_uri": "https://localhost:8080/"
        },
        "outputId": "7f8afb7c-fc1c-43e8-e7c0-6d875ff853ac"
      },
      "source": [
        "list_d"
      ],
      "execution_count": null,
      "outputs": [
        {
          "output_type": "execute_result",
          "data": {
            "text/plain": [
              "['a']"
            ]
          },
          "metadata": {
            "tags": []
          },
          "execution_count": 45
        }
      ]
    },
    {
      "cell_type": "code",
      "metadata": {
        "id": "76BOTQt0AymY"
      },
      "source": [
        "list_d.append('56')"
      ],
      "execution_count": null,
      "outputs": []
    },
    {
      "cell_type": "code",
      "metadata": {
        "id": "YpjQ5HvEA5KA",
        "colab": {
          "base_uri": "https://localhost:8080/"
        },
        "outputId": "2128cefd-7e5c-4250-dd85-0e7b1985792c"
      },
      "source": [
        "list_d"
      ],
      "execution_count": null,
      "outputs": [
        {
          "output_type": "execute_result",
          "data": {
            "text/plain": [
              "['a', '56']"
            ]
          },
          "metadata": {
            "tags": []
          },
          "execution_count": 47
        }
      ]
    },
    {
      "cell_type": "markdown",
      "metadata": {
        "id": "UfB4dTN4BJU1"
      },
      "source": [
        "การชี้ค่าใน list (idexing)\n",
        "\n",
        "1. ใช้ลำดับในการชี้\n",
        "2. ลำดับเริ่มจาก 0\n",
        "3. สามารถชี้จากข้างหลังได้โดยใช้ negative index"
      ]
    },
    {
      "cell_type": "code",
      "metadata": {
        "id": "aZvsE07vBbmj",
        "colab": {
          "base_uri": "https://localhost:8080/"
        },
        "outputId": "fb3bd7ce-2869-4799-c7fe-7feb8c84793a"
      },
      "source": [
        "list_b"
      ],
      "execution_count": null,
      "outputs": [
        {
          "output_type": "execute_result",
          "data": {
            "text/plain": [
              "[2, 'xyz', [1, 2, 0.2, 'abs'], [1, 2, 0.0]]"
            ]
          },
          "metadata": {
            "tags": []
          },
          "execution_count": 48
        }
      ]
    },
    {
      "cell_type": "code",
      "metadata": {
        "id": "RaHH4QMaBdgh",
        "colab": {
          "base_uri": "https://localhost:8080/"
        },
        "outputId": "d291c63a-55a4-4a94-b63e-4c365e69f5bc"
      },
      "source": [
        "list_b[-1] # เป็นการนับมาจากข้างหลัง"
      ],
      "execution_count": null,
      "outputs": [
        {
          "output_type": "execute_result",
          "data": {
            "text/plain": [
              "[1, 2, 0.0]"
            ]
          },
          "metadata": {
            "tags": []
          },
          "execution_count": 49
        }
      ]
    },
    {
      "cell_type": "markdown",
      "metadata": {
        "id": "84uqvMifCIjz"
      },
      "source": [
        "**list slicing**"
      ]
    },
    {
      "cell_type": "code",
      "metadata": {
        "id": "9Nhvc1ozBjTt"
      },
      "source": [
        "list_ex = [1,2,3,5,6,8,-1,20,50,0]"
      ],
      "execution_count": null,
      "outputs": []
    },
    {
      "cell_type": "markdown",
      "metadata": {
        "id": "F55VxvHYC5m3"
      },
      "source": [
        "เราจะตัด list โดยเอาตั้งแต่ [ตัวหน้า : ตัวก่อนตัวหลัง]\n",
        "\n",
        "ถ้าเป็นสัณลักษณ์คณิตศาสตร์ [ตัวหน้า : ตัวหลัง] -> [ตัวหน้า,ตัวหลัง)"
      ]
    },
    {
      "cell_type": "code",
      "metadata": {
        "id": "v1yMG7_zCe8n",
        "colab": {
          "base_uri": "https://localhost:8080/"
        },
        "outputId": "c1a028ad-c249-425a-8667-9693dc7d4143"
      },
      "source": [
        "list_ex[1:6]"
      ],
      "execution_count": null,
      "outputs": [
        {
          "output_type": "execute_result",
          "data": {
            "text/plain": [
              "[2, 3, 5, 6, 8]"
            ]
          },
          "metadata": {
            "tags": []
          },
          "execution_count": 51
        }
      ]
    },
    {
      "cell_type": "code",
      "metadata": {
        "id": "dMwhY4tvCkfc",
        "colab": {
          "base_uri": "https://localhost:8080/"
        },
        "outputId": "e2ce0359-7ef3-4ff6-e5e1-5dfebe53fb69"
      },
      "source": [
        "list_ex[4:] # ไม่ใส่ขอบเขตข้างหลัง"
      ],
      "execution_count": null,
      "outputs": [
        {
          "output_type": "execute_result",
          "data": {
            "text/plain": [
              "[6, 8, -1, 20, 50, 0]"
            ]
          },
          "metadata": {
            "tags": []
          },
          "execution_count": 52
        }
      ]
    },
    {
      "cell_type": "code",
      "metadata": {
        "id": "7eE_iNP0DjQg",
        "colab": {
          "base_uri": "https://localhost:8080/"
        },
        "outputId": "a4cddd44-1c18-44a4-d9f4-d5e84cb0bfef"
      },
      "source": [
        "list_ex[:6] # ไม่ใส่ขอบเขตข้างหน้า"
      ],
      "execution_count": null,
      "outputs": [
        {
          "output_type": "execute_result",
          "data": {
            "text/plain": [
              "[1, 2, 3, 5, 6, 8]"
            ]
          },
          "metadata": {
            "tags": []
          },
          "execution_count": 53
        }
      ]
    },
    {
      "cell_type": "markdown",
      "metadata": {
        "id": "g3XsN_3fEKjT"
      },
      "source": [
        "[จุดเริ่มต้น : จุดสุดท้าย : step]"
      ]
    },
    {
      "cell_type": "code",
      "metadata": {
        "id": "p2u212BREcvK",
        "colab": {
          "base_uri": "https://localhost:8080/"
        },
        "outputId": "4e470051-a581-41e7-8dfc-354ff1ceb7fa"
      },
      "source": [
        "list_ex "
      ],
      "execution_count": null,
      "outputs": [
        {
          "output_type": "execute_result",
          "data": {
            "text/plain": [
              "[1, 2, 3, 5, 6, 8, -1, 20, 50, 0]"
            ]
          },
          "metadata": {
            "tags": []
          },
          "execution_count": 54
        }
      ]
    },
    {
      "cell_type": "code",
      "metadata": {
        "id": "Uvp94JT9DnUS",
        "colab": {
          "base_uri": "https://localhost:8080/"
        },
        "outputId": "cc936297-7340-403d-c9dd-f288b5e7fadf"
      },
      "source": [
        "list_ex[::2] #เป็นบอกว่าเอาตั้งแต่ตัวแรกถึงตัวสุดท้าย โดยกำหนดให้กระโดดทีละ 2 "
      ],
      "execution_count": null,
      "outputs": [
        {
          "output_type": "execute_result",
          "data": {
            "text/plain": [
              "[1, 3, 6, -1, 50]"
            ]
          },
          "metadata": {
            "tags": []
          },
          "execution_count": 55
        }
      ]
    },
    {
      "cell_type": "code",
      "metadata": {
        "id": "WnrFcgNjEBGL",
        "colab": {
          "base_uri": "https://localhost:8080/"
        },
        "outputId": "192ebc0a-42f6-4325-e7a6-1602e2c7b833"
      },
      "source": [
        "list_ex[::-1] #การกลับ list"
      ],
      "execution_count": null,
      "outputs": [
        {
          "output_type": "execute_result",
          "data": {
            "text/plain": [
              "[0, 50, 20, -1, 8, 6, 5, 3, 2, 1]"
            ]
          },
          "metadata": {
            "tags": []
          },
          "execution_count": 56
        }
      ]
    },
    {
      "cell_type": "code",
      "metadata": {
        "id": "jR7EyNy1EySY",
        "colab": {
          "base_uri": "https://localhost:8080/",
          "height": 35
        },
        "outputId": "18830ebf-4dab-4f7d-d779-2831df363099"
      },
      "source": [
        "a"
      ],
      "execution_count": null,
      "outputs": [
        {
          "output_type": "execute_result",
          "data": {
            "application/vnd.google.colaboratory.intrinsic+json": {
              "type": "string"
            },
            "text/plain": [
              "'Stat KKU'"
            ]
          },
          "metadata": {
            "tags": []
          },
          "execution_count": 57
        }
      ]
    },
    {
      "cell_type": "code",
      "metadata": {
        "id": "yZz9xNlNE73g",
        "colab": {
          "base_uri": "https://localhost:8080/",
          "height": 35
        },
        "outputId": "3d0fdb57-0ae8-446d-f2a8-802b193a27ff"
      },
      "source": [
        "a[5:]"
      ],
      "execution_count": null,
      "outputs": [
        {
          "output_type": "execute_result",
          "data": {
            "application/vnd.google.colaboratory.intrinsic+json": {
              "type": "string"
            },
            "text/plain": [
              "'KKU'"
            ]
          },
          "metadata": {
            "tags": []
          },
          "execution_count": 58
        }
      ]
    },
    {
      "cell_type": "code",
      "metadata": {
        "id": "--64aJP8lf6P",
        "colab": {
          "base_uri": "https://localhost:8080/",
          "height": 35
        },
        "outputId": "e3b5c862-fd53-42fd-cbeb-8c1f1c9a9e83"
      },
      "source": [
        "a[-3:]"
      ],
      "execution_count": null,
      "outputs": [
        {
          "output_type": "execute_result",
          "data": {
            "application/vnd.google.colaboratory.intrinsic+json": {
              "type": "string"
            },
            "text/plain": [
              "'KKU'"
            ]
          },
          "metadata": {
            "tags": []
          },
          "execution_count": 59
        }
      ]
    },
    {
      "cell_type": "code",
      "metadata": {
        "id": "9ap9Favblj9_",
        "colab": {
          "base_uri": "https://localhost:8080/",
          "height": 35
        },
        "outputId": "4ded3cac-755f-45c5-869b-152c391ab176"
      },
      "source": [
        "a[5:8]"
      ],
      "execution_count": null,
      "outputs": [
        {
          "output_type": "execute_result",
          "data": {
            "application/vnd.google.colaboratory.intrinsic+json": {
              "type": "string"
            },
            "text/plain": [
              "'KKU'"
            ]
          },
          "metadata": {
            "tags": []
          },
          "execution_count": 60
        }
      ]
    },
    {
      "cell_type": "code",
      "metadata": {
        "id": "zu6m11x9lmG9",
        "colab": {
          "base_uri": "https://localhost:8080/",
          "height": 35
        },
        "outputId": "117e6f10-3c2e-4135-eb8c-e88b76a5ea95"
      },
      "source": [
        "a[5::]"
      ],
      "execution_count": null,
      "outputs": [
        {
          "output_type": "execute_result",
          "data": {
            "application/vnd.google.colaboratory.intrinsic+json": {
              "type": "string"
            },
            "text/plain": [
              "'KKU'"
            ]
          },
          "metadata": {
            "tags": []
          },
          "execution_count": 61
        }
      ]
    },
    {
      "cell_type": "code",
      "metadata": {
        "id": "DvgPjviwlnl8",
        "colab": {
          "base_uri": "https://localhost:8080/",
          "height": 35
        },
        "outputId": "4b977e56-a0d4-4cca-8b08-147ebde3e1e3"
      },
      "source": [
        "a[-3::]"
      ],
      "execution_count": null,
      "outputs": [
        {
          "output_type": "execute_result",
          "data": {
            "application/vnd.google.colaboratory.intrinsic+json": {
              "type": "string"
            },
            "text/plain": [
              "'KKU'"
            ]
          },
          "metadata": {
            "tags": []
          },
          "execution_count": 62
        }
      ]
    },
    {
      "cell_type": "code",
      "metadata": {
        "id": "Dsb2-kNplpMO",
        "colab": {
          "base_uri": "https://localhost:8080/",
          "height": 35
        },
        "outputId": "080977c2-04db-4b13-e386-a8967306904b"
      },
      "source": [
        "a[-3::1]"
      ],
      "execution_count": null,
      "outputs": [
        {
          "output_type": "execute_result",
          "data": {
            "application/vnd.google.colaboratory.intrinsic+json": {
              "type": "string"
            },
            "text/plain": [
              "'KKU'"
            ]
          },
          "metadata": {
            "tags": []
          },
          "execution_count": 64
        }
      ]
    },
    {
      "cell_type": "markdown",
      "metadata": {
        "id": "ASU9Mr4tGv_5"
      },
      "source": [
        "**list + list**"
      ]
    },
    {
      "cell_type": "code",
      "metadata": {
        "id": "jdOYRJOVFYJy",
        "colab": {
          "base_uri": "https://localhost:8080/"
        },
        "outputId": "d9c48c4e-db6d-4020-e1ef-e25a72b9d2a8"
      },
      "source": [
        "print(list_a)\n",
        "print(list_b)"
      ],
      "execution_count": null,
      "outputs": [
        {
          "output_type": "stream",
          "text": [
            "[1, 2, 0.2, 'abs']\n",
            "[2, 'xyz', [1, 2, 0.2, 'abs'], [1, 2, 0.0]]\n"
          ],
          "name": "stdout"
        }
      ]
    },
    {
      "cell_type": "code",
      "metadata": {
        "id": "C7-ND0RkHAwe",
        "colab": {
          "base_uri": "https://localhost:8080/"
        },
        "outputId": "e4344748-3080-426b-d499-b929658f5417"
      },
      "source": [
        "list_a + list_b"
      ],
      "execution_count": null,
      "outputs": [
        {
          "output_type": "execute_result",
          "data": {
            "text/plain": [
              "[1, 2, 0.2, 'abs', 2, 'xyz', [1, 2, 0.2, 'abs'], [1, 2, 0.0]]"
            ]
          },
          "metadata": {
            "tags": []
          },
          "execution_count": 65
        }
      ]
    },
    {
      "cell_type": "markdown",
      "metadata": {
        "id": "8qEdifg2LdCK"
      },
      "source": [
        "format string"
      ]
    },
    {
      "cell_type": "markdown",
      "metadata": {
        "id": "Q9eBrCi6LxBZ"
      },
      "source": [
        "\n",
        "```python\n",
        "f'string{ตัวแปร}'\n",
        "\n",
        "{} เรียกว่า curly brackets\n",
        "```\n",
        "\n"
      ]
    },
    {
      "cell_type": "code",
      "metadata": {
        "id": "T7ZtGq0DLgMK",
        "colab": {
          "base_uri": "https://localhost:8080/",
          "height": 35
        },
        "outputId": "dfd00236-9416-43d5-c5cd-f721b1222936"
      },
      "source": [
        "f'ตัวแปร list_a มีค่าคือ {list_a}'"
      ],
      "execution_count": null,
      "outputs": [
        {
          "output_type": "execute_result",
          "data": {
            "application/vnd.google.colaboratory.intrinsic+json": {
              "type": "string"
            },
            "text/plain": [
              "\"ตัวแปร list_a มีค่าคือ [1, 2, 0.2, 'abs']\""
            ]
          },
          "metadata": {
            "tags": []
          },
          "execution_count": 66
        }
      ]
    },
    {
      "cell_type": "markdown",
      "metadata": {
        "id": "4mlJigWlHhjP"
      },
      "source": [
        "**Loop**"
      ]
    },
    {
      "cell_type": "markdown",
      "metadata": {
        "id": "HVKmoT3sBqhw"
      },
      "source": [
        "ทำงานซ้ำๆ หรือ ทำงานคล้ายๆ กัน"
      ]
    },
    {
      "cell_type": "markdown",
      "metadata": {
        "id": "nI-rRJyqKeCq"
      },
      "source": [
        "``` python\n",
        "for ตัวแปรที่จะรับค่าจากลิสต์ in ลิสต์ที่จะนำมาวนลูป :\n",
        "  do something # in loop\n",
        "  do another thing # in loop\n",
        "\n",
        "do other thing # out side loop\n",
        "```\n",
        "\n"
      ]
    },
    {
      "cell_type": "code",
      "metadata": {
        "id": "ZOFWX5R1Jp4f",
        "colab": {
          "base_uri": "https://localhost:8080/"
        },
        "outputId": "eba12f84-b839-48bd-9d7e-1e5e57654002"
      },
      "source": [
        "for i in [1,2,3,4,5]:\n",
        "  print(i+1)\n"
      ],
      "execution_count": 1,
      "outputs": [
        {
          "output_type": "stream",
          "text": [
            "2\n",
            "3\n",
            "4\n",
            "5\n",
            "6\n"
          ],
          "name": "stdout"
        }
      ]
    },
    {
      "cell_type": "code",
      "metadata": {
        "id": "ivLZUNslJpxn",
        "colab": {
          "base_uri": "https://localhost:8080/"
        },
        "outputId": "1392e2f6-749f-42b5-a14b-149fed9355c5"
      },
      "source": [
        "for x in [1,2,3,4,5]:\n",
        "  print(f'ค่าตัวแปร x คือ {x} และ x+2 = {x+2}')"
      ],
      "execution_count": 2,
      "outputs": [
        {
          "output_type": "stream",
          "text": [
            "ค่าตัวแปร x คือ 1 และ x+2 = 3\n",
            "ค่าตัวแปร x คือ 2 และ x+2 = 4\n",
            "ค่าตัวแปร x คือ 3 และ x+2 = 5\n",
            "ค่าตัวแปร x คือ 4 และ x+2 = 6\n",
            "ค่าตัวแปร x คือ 5 และ x+2 = 7\n"
          ],
          "name": "stdout"
        }
      ]
    },
    {
      "cell_type": "code",
      "metadata": {
        "id": "rDo80maqNEP2",
        "colab": {
          "base_uri": "https://localhost:8080/"
        },
        "outputId": "5136f4cd-782f-4526-98b3-3b89b9632df1"
      },
      "source": [
        "list5 = [1,2,3,4,5]\n",
        "for x in list5:\n",
        "  print(f'ค่าตัวแปร x คือ {x} และ x+2 = {x+2}')"
      ],
      "execution_count": 3,
      "outputs": [
        {
          "output_type": "stream",
          "text": [
            "ค่าตัวแปร x คือ 1 และ x+2 = 3\n",
            "ค่าตัวแปร x คือ 2 และ x+2 = 4\n",
            "ค่าตัวแปร x คือ 3 และ x+2 = 5\n",
            "ค่าตัวแปร x คือ 4 และ x+2 = 6\n",
            "ค่าตัวแปร x คือ 5 และ x+2 = 7\n"
          ],
          "name": "stdout"
        }
      ]
    },
    {
      "cell_type": "code",
      "metadata": {
        "id": "wVrjEKi6NPQK",
        "colab": {
          "base_uri": "https://localhost:8080/"
        },
        "outputId": "fe90df6b-cc11-4e73-d912-92a427577b1e"
      },
      "source": [
        "list(range(10)) # rang คือ list ที่ยังไม่ได้ถูกเก็บไว้"
      ],
      "execution_count": 4,
      "outputs": [
        {
          "output_type": "execute_result",
          "data": {
            "text/plain": [
              "[0, 1, 2, 3, 4, 5, 6, 7, 8, 9]"
            ]
          },
          "metadata": {
            "tags": []
          },
          "execution_count": 4
        }
      ]
    },
    {
      "cell_type": "code",
      "metadata": {
        "id": "o00Zg5bONUih",
        "colab": {
          "base_uri": "https://localhost:8080/"
        },
        "outputId": "a9fc76bd-f30e-4eec-ec57-9927ab002f18"
      },
      "source": [
        "for i in range (2,7):\n",
        " print(i)"
      ],
      "execution_count": 5,
      "outputs": [
        {
          "output_type": "stream",
          "text": [
            "2\n",
            "3\n",
            "4\n",
            "5\n",
            "6\n"
          ],
          "name": "stdout"
        }
      ]
    },
    {
      "cell_type": "code",
      "metadata": {
        "id": "lrc-Sq3VOQuL",
        "colab": {
          "base_uri": "https://localhost:8080/"
        },
        "outputId": "fb89552b-45fe-419c-fa6c-0dfa620df576"
      },
      "source": [
        "for i in range (2,7,2):\n",
        " print(i)"
      ],
      "execution_count": 6,
      "outputs": [
        {
          "output_type": "stream",
          "text": [
            "2\n",
            "4\n",
            "6\n"
          ],
          "name": "stdout"
        }
      ]
    },
    {
      "cell_type": "code",
      "metadata": {
        "id": "IvL-Z8dJqDCf",
        "colab": {
          "base_uri": "https://localhost:8080/"
        },
        "outputId": "174d1aa3-9cde-43e7-d282-638d9cce79c6"
      },
      "source": [
        "for i in range(5):\n",
        "    print('hahaha')"
      ],
      "execution_count": 7,
      "outputs": [
        {
          "output_type": "stream",
          "text": [
            "hahaha\n",
            "hahaha\n",
            "hahaha\n",
            "hahaha\n",
            "hahaha\n"
          ],
          "name": "stdout"
        }
      ]
    },
    {
      "cell_type": "code",
      "metadata": {
        "id": "088fb3D-OTSL",
        "colab": {
          "base_uri": "https://localhost:8080/"
        },
        "outputId": "8486e559-c389-4bd1-dd71-87e52427bb52"
      },
      "source": [
        "for i in range (5):\n",
        " print('hahaha')\n",
        " x = i+3\n",
        " print(f'i={i} x={x}')"
      ],
      "execution_count": 8,
      "outputs": [
        {
          "output_type": "stream",
          "text": [
            "hahaha\n",
            "i=0 x=3\n",
            "hahaha\n",
            "i=1 x=4\n",
            "hahaha\n",
            "i=2 x=5\n",
            "hahaha\n",
            "i=3 x=6\n",
            "hahaha\n",
            "i=4 x=7\n"
          ],
          "name": "stdout"
        }
      ]
    },
    {
      "cell_type": "markdown",
      "metadata": {
        "id": "kssU7aYKPJ1I"
      },
      "source": [
        "**Nested Loop**"
      ]
    },
    {
      "cell_type": "code",
      "metadata": {
        "id": "mRGaGNy9p5Fr",
        "colab": {
          "base_uri": "https://localhost:8080/"
        },
        "outputId": "42771595-95a0-4f10-9742-43af7fa4698d"
      },
      "source": [
        "for i in range(3):\n",
        "    for j in range(4):\n",
        "        print(f' i= {i} j ={j} i+j={i+j}')"
      ],
      "execution_count": 9,
      "outputs": [
        {
          "output_type": "stream",
          "text": [
            " i= 0 j =0 i+j=0\n",
            " i= 0 j =1 i+j=1\n",
            " i= 0 j =2 i+j=2\n",
            " i= 0 j =3 i+j=3\n",
            " i= 1 j =0 i+j=1\n",
            " i= 1 j =1 i+j=2\n",
            " i= 1 j =2 i+j=3\n",
            " i= 1 j =3 i+j=4\n",
            " i= 2 j =0 i+j=2\n",
            " i= 2 j =1 i+j=3\n",
            " i= 2 j =2 i+j=4\n",
            " i= 2 j =3 i+j=5\n"
          ],
          "name": "stdout"
        }
      ]
    },
    {
      "cell_type": "code",
      "metadata": {
        "id": "u32GRLWOPJep",
        "colab": {
          "base_uri": "https://localhost:8080/"
        },
        "outputId": "30789fc0-849c-42c0-f958-d3a0fed755f3"
      },
      "source": [
        "for i in range(3):\n",
        "  print(f'now i = {i}')\n",
        "  print('start j loop')\n",
        "  for j in range(4):\n",
        "    print(f'i = {i} j={j} i+j = {i+j}')\n",
        "  print('end j loop')"
      ],
      "execution_count": 10,
      "outputs": [
        {
          "output_type": "stream",
          "text": [
            "now i = 0\n",
            "start j loop\n",
            "i = 0 j=0 i+j = 0\n",
            "i = 0 j=1 i+j = 1\n",
            "i = 0 j=2 i+j = 2\n",
            "i = 0 j=3 i+j = 3\n",
            "end j loop\n",
            "now i = 1\n",
            "start j loop\n",
            "i = 1 j=0 i+j = 1\n",
            "i = 1 j=1 i+j = 2\n",
            "i = 1 j=2 i+j = 3\n",
            "i = 1 j=3 i+j = 4\n",
            "end j loop\n",
            "now i = 2\n",
            "start j loop\n",
            "i = 2 j=0 i+j = 2\n",
            "i = 2 j=1 i+j = 3\n",
            "i = 2 j=2 i+j = 4\n",
            "i = 2 j=3 i+j = 5\n",
            "end j loop\n"
          ],
          "name": "stdout"
        }
      ]
    },
    {
      "cell_type": "markdown",
      "metadata": {
        "id": "8WUCLJ-oHkej"
      },
      "source": [
        "**Condition**\n",
        "\n",
        "**if statement (เงื่อนไข)**\n"
      ]
    },
    {
      "cell_type": "markdown",
      "metadata": {
        "id": "sYXcjC-LLPLz"
      },
      "source": [
        "\n",
        "\n",
        "```python\n",
        "if เงื่อนไขที่จะตรวจสอบ (โดยใช้สัญลักษณ์ ==,!=,<,>,<=,>=) :\n",
        "    ถ้าเงื่อนไขเป็นจริง ทำงาน 1\n",
        "    ถ้าเงื่อนไขเป็นจริง ทำงาน 2\n",
        "```\n",
        "\n"
      ]
    },
    {
      "cell_type": "code",
      "metadata": {
        "id": "J6RX9BRWHLaX",
        "colab": {
          "base_uri": "https://localhost:8080/"
        },
        "outputId": "a8900fc6-c373-4f61-f995-c6a7a841e2ed"
      },
      "source": [
        "stringx = 'sadfdcsfgadfsdfadsdfasdgsafsghkjnimokp' # ถ้าถูกจะแสดงผลออกมา\n",
        "\n",
        "if len(stringx) > 30:\n",
        "  print(f'{stringx} is longer than 30 characters')"
      ],
      "execution_count": 11,
      "outputs": [
        {
          "output_type": "stream",
          "text": [
            "sadfdcsfgadfsdfadsdfasdgsafsghkjnimokp is longer than 30 characters\n"
          ],
          "name": "stdout"
        }
      ]
    },
    {
      "cell_type": "code",
      "metadata": {
        "id": "klhkgJC6LsPo"
      },
      "source": [
        "stringx = 'sadfdcsfgadfsdfadsdfasdgsafsghkjnimokp'\n",
        "\n",
        "if len(stringx) > 100:\n",
        "  print(f'{stringx} is longer than 30 characters')"
      ],
      "execution_count": 12,
      "outputs": []
    },
    {
      "cell_type": "markdown",
      "metadata": {
        "id": "gVRxqwXMLbQ9"
      },
      "source": [
        "\n",
        "\n",
        "```python\n",
        "if เงื่อนไขที่จะตรวจสอบ (โดยใช้สัญลักษณ์ ==,!=,<,>,<=,>=) :\n",
        "    ถ้าเงื่อนไขเป็นจริง ทำงาน 1\n",
        "    ถ้าเงื่อนไขเป็นจริง ทำงาน 2\n",
        "elif เงื่อนไขที่จะตรวจสอบต่อไปถ้าเงื่อนไขข้างบนไม่เป็นจริง :\n",
        "    ทำงานที่ x\n",
        "```\n",
        "\n"
      ]
    },
    {
      "cell_type": "code",
      "metadata": {
        "colab": {
          "base_uri": "https://localhost:8080/"
        },
        "id": "MF5X3q4BHBdE",
        "outputId": "5ea9ce31-93d3-4276-b8f3-7dd7a5a9593f"
      },
      "source": [
        "stringx = 'sadfdcsfgadfsdfadsdfasdgsafsghkjnimokp'\n",
        "\n",
        "if len(stringx) > 100:\n",
        "  print(f'{stringx} is longer than 30 characters')\n",
        "else:\n",
        "  print(f'{stringx} in {len(stringx)} characters long') # เป็นการบอกว่าถ้ามันไม่ตรงกับเงื่อนไข แล้วให้แสดงความยาวขของมัน"
      ],
      "execution_count": 13,
      "outputs": [
        {
          "output_type": "stream",
          "text": [
            "sadfdcsfgadfsdfadsdfasdgsafsghkjnimokp in 38 characters long\n"
          ],
          "name": "stdout"
        }
      ]
    },
    {
      "cell_type": "markdown",
      "metadata": {
        "id": "gzXLeJwTKf5P"
      },
      "source": [
        "```python\n",
        "if เงื่อนไขที่จะตรวจสอบ (โดยใช้สัญลักษณ์ ==,!=,<,>,<=,>=) :\n",
        "    ถ้าเงื่อนไขเป็นจริง ทำงาน 1\n",
        "    ถ้าเงื่อนไขเป็นจริง ทำงาน 2\n",
        "elif เงื่อนไขที่จะตรวจสอบต่อไปถ้าเงื่อนไขข้างบนไม่เป็นจริง :\n",
        "    ถ้าเงื่อนไขเป็นจริง ทำงาน a1\n",
        "    ถ้าเงื่อนไขเป็นจริง ทำงาน a2\n",
        "elif เงื่อนไขที่จะตรวจสอบต่อไปถ้าเงื่อนไขข้างบนไม่เป็นจริง :\n",
        "    ถ้าเงื่อนไขเป็นจริง ทำงาน b1\n",
        "    ถ้าเงื่อนไขเป็นจริง ทำงาน b2\n",
        "else : # ตรวจสอบเงื่อนไขข้างบนแล้วไม่เป็นจริง\n",
        "    ทำงานที่ x\n",
        "```"
      ]
    },
    {
      "cell_type": "code",
      "metadata": {
        "colab": {
          "base_uri": "https://localhost:8080/"
        },
        "id": "PbT5DUpbLKHX",
        "outputId": "9ac53663-e5b5-4c82-8171-e7c7a1fa179e"
      },
      "source": [
        "password = '12345'\n",
        "\n",
        "input_pass = '123'\n",
        "if input_pass == password :\n",
        "  print('Welcome!')\n",
        "elif len(input_pass) > len(password) :\n",
        "  print('Too Long,try agian!')\n",
        "elif len(input_pass) < len(password) :\n",
        "  print('Too short,try agian!')\n",
        "else :\n",
        "  print('Wrong password,try again!')"
      ],
      "execution_count": 14,
      "outputs": [
        {
          "output_type": "stream",
          "text": [
            "Too short,try agian!\n"
          ],
          "name": "stdout"
        }
      ]
    },
    {
      "cell_type": "markdown",
      "metadata": {
        "id": "IS8KF16ZLD3U"
      },
      "source": [
        "**Quiz1 หา Min**"
      ]
    },
    {
      "cell_type": "code",
      "metadata": {
        "id": "IVjxANu-Ng5e"
      },
      "source": [
        "list_ex = [1,5,9,-19,-2,0] #หาค่าน้อยที่สุดใน list_ex โดยไม่ใช้ function min"
      ],
      "execution_count": 15,
      "outputs": []
    },
    {
      "cell_type": "code",
      "metadata": {
        "colab": {
          "base_uri": "https://localhost:8080/"
        },
        "id": "-aCFlkSXOEWq",
        "outputId": "4b7096de-84be-4290-9fe3-8ef3edc4ec54"
      },
      "source": [
        "if list_ex == min:\n",
        "  print(f'{list_ex} is min')\n",
        "else:\n",
        "  print(f'{list_ex} in max')"
      ],
      "execution_count": 16,
      "outputs": [
        {
          "output_type": "stream",
          "text": [
            "[1, 5, 9, -19, -2, 0] in max\n"
          ],
          "name": "stdout"
        }
      ]
    },
    {
      "cell_type": "markdown",
      "metadata": {
        "id": "V-9kgWHUSl57"
      },
      "source": [
        "**เฉลย**"
      ]
    },
    {
      "cell_type": "code",
      "metadata": {
        "colab": {
          "base_uri": "https://localhost:8080/"
        },
        "id": "gXD6v28KSloK",
        "outputId": "9e5e3cfa-8937-4eab-dc36-a79edd469a9b"
      },
      "source": [
        "min = 1000000\n",
        "for i in list_ex :\n",
        "  if i < min :\n",
        "    min = i\n",
        "print(min)\n"
      ],
      "execution_count": 17,
      "outputs": [
        {
          "output_type": "stream",
          "text": [
            "-19\n"
          ],
          "name": "stdout"
        }
      ]
    },
    {
      "cell_type": "code",
      "metadata": {
        "colab": {
          "base_uri": "https://localhost:8080/"
        },
        "id": "f0SBRSptUCeO",
        "outputId": "975f53b6-561f-4835-bfca-b6ff13ffb42c"
      },
      "source": [
        "# เฉลยแบบละเอียด\n",
        "min = 1000000 # กำหนดค่าเองเป็นเท่าไรก็ได้ ที่มีค่ามาก\n",
        "print(list_ex) \n",
        "for i in list_ex: # วนค่าใน list ออกมาทีละตัว\n",
        "  print (f'now i = {i},min = {min}') # ทำการเทียบค่าใน list กับค่า min ที่กำหนด\n",
        "  print('start condition')\n",
        "  if i < min :\n",
        "    print(f'i < min,update i to -> {i}')\n",
        "    min = i\n",
        "  else:\n",
        "      print('i >= min,not update')\n",
        "  print('end condition,go to next i')\n",
        "\n",
        "print(min)"
      ],
      "execution_count": 18,
      "outputs": [
        {
          "output_type": "stream",
          "text": [
            "[1, 5, 9, -19, -2, 0]\n",
            "now i = 1,min = 1000000\n",
            "start condition\n",
            "i < min,update i to -> 1\n",
            "end condition,go to next i\n",
            "now i = 5,min = 1\n",
            "start condition\n",
            "i >= min,not update\n",
            "end condition,go to next i\n",
            "now i = 9,min = 1\n",
            "start condition\n",
            "i >= min,not update\n",
            "end condition,go to next i\n",
            "now i = -19,min = 1\n",
            "start condition\n",
            "i < min,update i to -> -19\n",
            "end condition,go to next i\n",
            "now i = -2,min = -19\n",
            "start condition\n",
            "i >= min,not update\n",
            "end condition,go to next i\n",
            "now i = 0,min = -19\n",
            "start condition\n",
            "i >= min,not update\n",
            "end condition,go to next i\n",
            "-19\n"
          ],
          "name": "stdout"
        }
      ]
    },
    {
      "cell_type": "markdown",
      "metadata": {
        "id": "Hiqh6xk9LHmB"
      },
      "source": [
        "**HW3 ตัดเกรด**"
      ]
    },
    {
      "cell_type": "code",
      "metadata": {
        "id": "k20Ke4siVwsG"
      },
      "source": [
        "score = [49,65,70,95,82,55,89,20,77,77,81,59,10] # ตัดเกรด คะแนนใน list (ใช้ if กับ for)"
      ],
      "execution_count": 19,
      "outputs": []
    },
    {
      "cell_type": "code",
      "metadata": {
        "id": "9WkI8mt5PeaV",
        "colab": {
          "base_uri": "https://localhost:8080/"
        },
        "outputId": "c2224169-53bf-4c74-c82c-a0cc86c62260"
      },
      "source": [
        "for i in score :\n",
        "    if i >= 80 :\n",
        "      print(f'คะแนนที่ได้คือ {i} = A')\n",
        "    elif i >= 75 :\n",
        "      print(f'คะแนนที่ได้คือ {i} = B+')\n",
        "    elif i >= 70 :\n",
        "      print(f'คะแนนที่ได้คือ {i} = B')\n",
        "    elif i >= 65 :\n",
        "      print(f'คะแนนที่ได้คือ {i} = C+')\n",
        "    elif i >= 60 :\n",
        "      print(f'คะแนนที่ได้คือ {i} = C')\n",
        "    elif i >= 55 :\n",
        "      print(f'คะแนนที่ได้คือ {i} = D+')\n",
        "    elif i >= 50 :\n",
        "      print(f'คะแนนที่ได้คือ {i} = D')\n",
        "    else :\n",
        "      print(f'คะแนนที่ได้คือ {i} = F')"
      ],
      "execution_count": 20,
      "outputs": [
        {
          "output_type": "stream",
          "text": [
            "คะแนนที่ได้คือ 49 = F\n",
            "คะแนนที่ได้คือ 65 = C+\n",
            "คะแนนที่ได้คือ 70 = B\n",
            "คะแนนที่ได้คือ 95 = A\n",
            "คะแนนที่ได้คือ 82 = A\n",
            "คะแนนที่ได้คือ 55 = D+\n",
            "คะแนนที่ได้คือ 89 = A\n",
            "คะแนนที่ได้คือ 20 = F\n",
            "คะแนนที่ได้คือ 77 = B+\n",
            "คะแนนที่ได้คือ 77 = B+\n",
            "คะแนนที่ได้คือ 81 = A\n",
            "คะแนนที่ได้คือ 59 = D+\n",
            "คะแนนที่ได้คือ 10 = F\n"
          ],
          "name": "stdout"
        }
      ]
    },
    {
      "cell_type": "markdown",
      "metadata": {
        "id": "Z54qnCfaFr0J"
      },
      "source": [
        "**Function**"
      ]
    },
    {
      "cell_type": "markdown",
      "metadata": {
        "id": "4dfbPhKvw58C"
      },
      "source": [
        "\n",
        "\n",
        "```python\n",
        "def ชื่อฟังก์ชัน(input1,input2,.....) :\n",
        "    งานxxx\n",
        "    งานyyy\n",
        "    return output\n",
        "```\n",
        "ส่วนประกอบสำคัญ\n",
        "* input\n",
        "* process (ไม่มีไม่ได้)\n",
        "* output\n"
      ]
    },
    {
      "cell_type": "markdown",
      "metadata": {
        "id": "FR_g7vmqy0LR"
      },
      "source": [
        "**Example1**"
      ]
    },
    {
      "cell_type": "code",
      "metadata": {
        "id": "OKZxJvEf2Nze"
      },
      "source": [
        "def grading(score) :\n",
        "      if score >= 80 :\n",
        "        grade = 'A'\n",
        "      elif score >= 75 :\n",
        "        grade = 'B+'\n",
        "      elif score >= 70 :\n",
        "        grade = 'B'\n",
        "      elif score >= 65 :\n",
        "        grade = 'C+'\n",
        "      elif score >= 60 :\n",
        "        grade = 'C'\n",
        "      elif score >= 55 :\n",
        "        grade = 'D+'\n",
        "      elif score >= 50 :\n",
        "       grade = 'D'\n",
        "      else :\n",
        "        grade = 'F'\n",
        "\n",
        "      return grade"
      ],
      "execution_count": 32,
      "outputs": []
    },
    {
      "cell_type": "code",
      "metadata": {
        "id": "ULRw6uoF0YRt",
        "outputId": "01e60db5-7fd7-42c3-d342-7a1efcedcc39",
        "colab": {
          "base_uri": "https://localhost:8080/"
        }
      },
      "source": [
        "score = [49,65,70,95,82,55,89,20,77,77,81,59,10]\n",
        "for i in score:\n",
        "    print(f'คะแนน {i} ได้เกรด {grading(i)}')"
      ],
      "execution_count": 35,
      "outputs": [
        {
          "output_type": "stream",
          "text": [
            "คะแนน 49 ได้เกรด F\n",
            "คะแนน 65 ได้เกรด C+\n",
            "คะแนน 70 ได้เกรด B\n",
            "คะแนน 95 ได้เกรด A\n",
            "คะแนน 82 ได้เกรด A\n",
            "คะแนน 55 ได้เกรด D+\n",
            "คะแนน 89 ได้เกรด A\n",
            "คะแนน 20 ได้เกรด F\n",
            "คะแนน 77 ได้เกรด B+\n",
            "คะแนน 77 ได้เกรด B+\n",
            "คะแนน 81 ได้เกรด A\n",
            "คะแนน 59 ได้เกรด D+\n",
            "คะแนน 10 ได้เกรด F\n"
          ],
          "name": "stdout"
        }
      ]
    },
    {
      "cell_type": "code",
      "metadata": {
        "id": "Pajb694J2218"
      },
      "source": [
        "def grading_list(list_score) :\n",
        "    grade_list = []\n",
        "    for score in list_score :\n",
        "        if score >= 80 :\n",
        "          grade = 'A'\n",
        "        elif score >= 75 :\n",
        "          grade = 'B+'\n",
        "        elif score >= 70 :\n",
        "          grade = 'B'\n",
        "        elif score >= 65 :\n",
        "          grade = 'C+'\n",
        "        elif score >= 60 :\n",
        "          grade = 'C'\n",
        "        elif score >= 55 :\n",
        "          grade = 'D+'\n",
        "        elif score >= 50 :\n",
        "          grade = 'D'\n",
        "        else :\n",
        "          grade = 'F'\n",
        "        grade_list.append([score,grade])\n",
        "    return grade_list"
      ],
      "execution_count": 53,
      "outputs": []
    },
    {
      "cell_type": "code",
      "metadata": {
        "id": "6wNKLrf43Tri",
        "outputId": "8ef5b480-7654-42e3-b2b4-b7e9b025bf79",
        "colab": {
          "base_uri": "https://localhost:8080/"
        }
      },
      "source": [
        "g = grading_list(score)\n",
        "g  "
      ],
      "execution_count": 52,
      "outputs": [
        {
          "output_type": "execute_result",
          "data": {
            "text/plain": [
              "['F', 'C+', 'B', 'A', 'A', 'D+', 'A', 'F', 'B+', 'B+', 'A', 'D+', 'F']"
            ]
          },
          "metadata": {
            "tags": []
          },
          "execution_count": 52
        }
      ]
    },
    {
      "cell_type": "code",
      "metadata": {
        "id": "mUXbFGAx5BFA",
        "outputId": "2c67d9f3-7424-4fbc-d545-16026b23b322",
        "colab": {
          "base_uri": "https://localhost:8080/"
        }
      },
      "source": [
        "g = grading_list(score)\n",
        "g  "
      ],
      "execution_count": 54,
      "outputs": [
        {
          "output_type": "execute_result",
          "data": {
            "text/plain": [
              "[[49, 'F'],\n",
              " [65, 'C+'],\n",
              " [70, 'B'],\n",
              " [95, 'A'],\n",
              " [82, 'A'],\n",
              " [55, 'D+'],\n",
              " [89, 'A'],\n",
              " [20, 'F'],\n",
              " [77, 'B+'],\n",
              " [77, 'B+'],\n",
              " [81, 'A'],\n",
              " [59, 'D+'],\n",
              " [10, 'F']]"
            ]
          },
          "metadata": {
            "tags": []
          },
          "execution_count": 54
        }
      ]
    },
    {
      "cell_type": "code",
      "metadata": {
        "id": "QdnXlEqx7Zx_"
      },
      "source": [
        "def grading2(score) :\n",
        "      if score >= 80 :\n",
        "        return 'A'\n",
        "      elif score >= 75 :\n",
        "        return 'B+'\n",
        "      elif score >= 70 :\n",
        "        return 'B'\n",
        "      elif score >= 65 :\n",
        "        return 'C+'\n",
        "      elif score >= 60 :\n",
        "        return 'C'\n",
        "      elif score >= 55 :\n",
        "        return 'D+'\n",
        "      elif score >= 50 :\n",
        "       return 'D'\n",
        "      else :\n",
        "        return 'F'"
      ],
      "execution_count": 57,
      "outputs": []
    },
    {
      "cell_type": "code",
      "metadata": {
        "id": "ltxM8fU37lFT",
        "outputId": "b961c214-b828-4470-f9d3-0ecb7fe3ec72",
        "colab": {
          "base_uri": "https://localhost:8080/"
        }
      },
      "source": [
        "score = [49,65,70,95,82,55,89,20,77,77,81,59,10]\n",
        "for i in score:\n",
        "    print(f'คะแนน {i} ได้เกรด {grading2(i)}')"
      ],
      "execution_count": 58,
      "outputs": [
        {
          "output_type": "stream",
          "text": [
            "คะแนน 49 ได้เกรด F\n",
            "คะแนน 65 ได้เกรด C+\n",
            "คะแนน 70 ได้เกรด B\n",
            "คะแนน 95 ได้เกรด A\n",
            "คะแนน 82 ได้เกรด A\n",
            "คะแนน 55 ได้เกรด D+\n",
            "คะแนน 89 ได้เกรด A\n",
            "คะแนน 20 ได้เกรด F\n",
            "คะแนน 77 ได้เกรด B+\n",
            "คะแนน 77 ได้เกรด B+\n",
            "คะแนน 81 ได้เกรด A\n",
            "คะแนน 59 ได้เกรด D+\n",
            "คะแนน 10 ได้เกรด F\n"
          ],
          "name": "stdout"
        }
      ]
    },
    {
      "cell_type": "markdown",
      "metadata": {
        "id": "_dPPyr_m8-25"
      },
      "source": [
        "**Example2 (ไม่มี input)**"
      ]
    },
    {
      "cell_type": "code",
      "metadata": {
        "id": "Pf-SBWax9IA2"
      },
      "source": [
        "def mypi() : \n",
        "    return 3.14"
      ],
      "execution_count": 59,
      "outputs": []
    },
    {
      "cell_type": "code",
      "metadata": {
        "id": "wGAw8joc7m53",
        "outputId": "b4b40d60-7011-4192-ab97-408a69250245",
        "colab": {
          "base_uri": "https://localhost:8080/"
        }
      },
      "source": [
        "r= 10\n",
        "print(f'รัศมี = {r} จะมีเส้นรอบวง = {2*mypi()*r}')"
      ],
      "execution_count": 62,
      "outputs": [
        {
          "output_type": "stream",
          "text": [
            "รัศมี = 10 จะมีเส้นรอบวง = 62.800000000000004\n"
          ],
          "name": "stdout"
        }
      ]
    },
    {
      "cell_type": "markdown",
      "metadata": {
        "id": "2w237cMt90E3"
      },
      "source": [
        "**Example3 (ไม่มี output)**"
      ]
    },
    {
      "cell_type": "code",
      "metadata": {
        "id": "v0urayaJ9e8t"
      },
      "source": [
        "def grading_nooutput(score) :\n",
        "    if i >= 80 :\n",
        "      print('ได้เกรด A')\n",
        "    elif i >= 75 :\n",
        "      print('ได้เกรด B+')\n",
        "    elif i >= 70 :\n",
        "      print('ได้เกรด B')\n",
        "    elif i >= 65 :\n",
        "      print('ได้เกรด C+')\n",
        "    elif i >= 60 :\n",
        "      print('ได้เกรด C')\n",
        "    elif i >= 55 :\n",
        "      print('ได้เกรด D+')\n",
        "    elif i >= 50 :\n",
        "      print('ได้เกรด D')\n",
        "    else :\n",
        "      print('ได้เกรด F')"
      ],
      "execution_count": 72,
      "outputs": []
    },
    {
      "cell_type": "code",
      "metadata": {
        "id": "7HReDyS6-eHG",
        "outputId": "18f5b4c5-a4af-4ebf-e961-0aab3c3ce8a6",
        "colab": {
          "base_uri": "https://localhost:8080/"
        }
      },
      "source": [
        "score = [49,65,70,95,82,55,89,20,77,77,81,59,10]\n",
        "for i in score:\n",
        "    print(f'คะแนน {i}', end =' ')\n",
        "    grading_nooutput(i)"
      ],
      "execution_count": 73,
      "outputs": [
        {
          "output_type": "stream",
          "text": [
            "คะแนน 49 ได้เกรด F\n",
            "คะแนน 65 ได้เกรด C+\n",
            "คะแนน 70 ได้เกรด B\n",
            "คะแนน 95 ได้เกรด A\n",
            "คะแนน 82 ได้เกรด A\n",
            "คะแนน 55 ได้เกรด D+\n",
            "คะแนน 89 ได้เกรด A\n",
            "คะแนน 20 ได้เกรด F\n",
            "คะแนน 77 ได้เกรด B+\n",
            "คะแนน 77 ได้เกรด B+\n",
            "คะแนน 81 ได้เกรด A\n",
            "คะแนน 59 ได้เกรด D+\n",
            "คะแนน 10 ได้เกรด F\n"
          ],
          "name": "stdout"
        }
      ]
    },
    {
      "cell_type": "markdown",
      "metadata": {
        "id": "tWDLuqfs_dTX"
      },
      "source": [
        "**Example4 (ไม่มี input และ output)**"
      ]
    },
    {
      "cell_type": "code",
      "metadata": {
        "id": "VYGb4eUb-xsI"
      },
      "source": [
        "def draw_rect() :\n",
        "        print('===========')\n",
        "        print('|                        |')\n",
        "        print('|                        |')\n",
        "        print('===========')"
      ],
      "execution_count": 76,
      "outputs": []
    },
    {
      "cell_type": "code",
      "metadata": {
        "id": "QpT9D9jRAA32",
        "outputId": "77e87f6e-a50c-42f0-948d-6f727aec493f",
        "colab": {
          "base_uri": "https://localhost:8080/"
        }
      },
      "source": [
        "draw_rect()\n",
        "draw_rect()"
      ],
      "execution_count": 77,
      "outputs": [
        {
          "output_type": "stream",
          "text": [
            "===========\n",
            "|                        |\n",
            "|                        |\n",
            "===========\n",
            "===========\n",
            "|                        |\n",
            "|                        |\n",
            "===========\n"
          ],
          "name": "stdout"
        }
      ]
    },
    {
      "cell_type": "markdown",
      "metadata": {
        "id": "6b3peDOwA7ar"
      },
      "source": [
        "**ลักษณะของ input(parameter)** \n",
        "\n",
        "*  จำเป็นใส่\n",
        "*   ไม่จำเป็นใส่\n",
        "\n"
      ]
    },
    {
      "cell_type": "code",
      "metadata": {
        "id": "2ai9iqiBAHAM"
      },
      "source": [
        "def A(input1, input2 = 3) :\n",
        "    return input1+input2"
      ],
      "execution_count": 78,
      "outputs": []
    },
    {
      "cell_type": "code",
      "metadata": {
        "id": "pbfQ2eTeBtxE",
        "outputId": "23dfb11a-ad58-47d6-ca6b-d044aa050624",
        "colab": {
          "base_uri": "https://localhost:8080/"
        }
      },
      "source": [
        "A(1) # 1 จะไปบวกกับ input ที่ไม่จำเป็น คือ input2 "
      ],
      "execution_count": 79,
      "outputs": [
        {
          "output_type": "execute_result",
          "data": {
            "text/plain": [
              "4"
            ]
          },
          "metadata": {
            "tags": []
          },
          "execution_count": 79
        }
      ]
    },
    {
      "cell_type": "code",
      "metadata": {
        "id": "tKED5WatBymn",
        "outputId": "4542af23-5b81-41c8-996f-6b4edcfb7d4a",
        "colab": {
          "base_uri": "https://localhost:8080/"
        }
      },
      "source": [
        "A(1,6) # เนื่องจากกำหนดค่าให้ทั้งสอง input2 จึงดึงค่าที่กำหนดให้แทน"
      ],
      "execution_count": 80,
      "outputs": [
        {
          "output_type": "execute_result",
          "data": {
            "text/plain": [
              "7"
            ]
          },
          "metadata": {
            "tags": []
          },
          "execution_count": 80
        }
      ]
    },
    {
      "cell_type": "code",
      "metadata": {
        "id": "xOiC5cxNCUyE"
      },
      "source": [
        "def printlove(input1, input2 = 'Start', input3 = 'KKU') :\n",
        "    print(f'{input1} love {input2}{input3}')"
      ],
      "execution_count": 81,
      "outputs": []
    },
    {
      "cell_type": "code",
      "metadata": {
        "id": "yIhivrL2DRb0",
        "outputId": "7eb65d73-cd42-43dc-db97-9aef8c04fee4",
        "colab": {
          "base_uri": "https://localhost:8080/"
        }
      },
      "source": [
        "printlove('Kittima')"
      ],
      "execution_count": 82,
      "outputs": [
        {
          "output_type": "stream",
          "text": [
            "Kittima love StartKKU\n"
          ],
          "name": "stdout"
        }
      ]
    },
    {
      "cell_type": "code",
      "metadata": {
        "id": "l_M4ypQWDYkV",
        "outputId": "f3f4b9f4-ede9-4a02-9a12-9828f93e375e",
        "colab": {
          "base_uri": "https://localhost:8080/"
        }
      },
      "source": [
        "printlove('Kittima','SI','Stat')"
      ],
      "execution_count": 83,
      "outputs": [
        {
          "output_type": "stream",
          "text": [
            "Kittima love SIStat\n"
          ],
          "name": "stdout"
        }
      ]
    },
    {
      "cell_type": "code",
      "metadata": {
        "id": "dUVBRPRDDgMP",
        "outputId": "4b374681-a600-4aaf-dfb4-c03d15a7444f",
        "colab": {
          "base_uri": "https://localhost:8080/"
        }
      },
      "source": [
        "printlove(input3 = 'Kittima', input2= 'SI', input1= 'Stat')"
      ],
      "execution_count": 87,
      "outputs": [
        {
          "output_type": "stream",
          "text": [
            "Stat love SIKittima\n"
          ],
          "name": "stdout"
        }
      ]
    },
    {
      "cell_type": "code",
      "metadata": {
        "id": "1NGRYLdJDugR",
        "outputId": "285982c6-f2af-487c-f5d3-c074ca9fd552",
        "colab": {
          "base_uri": "https://localhost:8080/",
          "height": 130
        }
      },
      "source": [
        "def printlove(input2 = 'Start', input1, input3 = 'KKU') : ### ไม่ควรเอา input ที่มีค่า default(มีเครื่องหมาย =) ขึ้นก่อน"
      ],
      "execution_count": 88,
      "outputs": [
        {
          "output_type": "error",
          "ename": "SyntaxError",
          "evalue": "ignored",
          "traceback": [
            "\u001b[0;36m  File \u001b[0;32m\"<ipython-input-88-692be59bf5df>\"\u001b[0;36m, line \u001b[0;32m1\u001b[0m\n\u001b[0;31m    def printlove(input2 = 'Start', input1, input3 = 'KKU') :\u001b[0m\n\u001b[0m                 ^\u001b[0m\n\u001b[0;31mSyntaxError\u001b[0m\u001b[0;31m:\u001b[0m non-default argument follows default argument\n"
          ]
        }
      ]
    },
    {
      "cell_type": "markdown",
      "metadata": {
        "id": "bjC0XCd9FBEa"
      },
      "source": [
        "**HW4**\n",
        "\n",
        "สร้างฟังก์ชัน\n",
        "\n",
        "*   วาดรูปบ้าน\n",
        "*   วาดรูปต้นไม้\n",
        "\n"
      ]
    },
    {
      "cell_type": "code",
      "metadata": {
        "id": "x1IZZStXEXKb"
      },
      "source": [
        ""
      ],
      "execution_count": null,
      "outputs": []
    }
  ]
}